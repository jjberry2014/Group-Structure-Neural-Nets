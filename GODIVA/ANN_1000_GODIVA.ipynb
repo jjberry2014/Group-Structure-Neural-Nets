{
 "cells": [
  {
   "cell_type": "code",
   "execution_count": 1,
   "metadata": {},
   "outputs": [],
   "source": [
    "import sys\n",
    "sys.path.insert(0, '/Volumes/data/LosAlamosSummer')\n",
    "sys.path.insert(0, '/Volumes/data/LosAlamosSummer/DrOsborneCode')\n",
    "import src.Utilities as ut\n",
    "import importlib\n",
    "import src.models as mod\n",
    "import src.callbacks as cus\n",
    "importlib.reload(ut)\n",
    "importlib.reload(mod)\n",
    "importlib.reload(cus)\n",
    "import scipy\n",
    "import tensorflow as tf\n",
    "import numpy as np\n",
    "from tensorflow.keras import layers\n"
   ]
  },
  {
   "cell_type": "code",
   "execution_count": 2,
   "metadata": {},
   "outputs": [
    {
     "name": "stdout",
     "output_type": "stream",
     "text": [
      "[1.e+02 1.e+03 1.e+04 1.e+05 1.e+06 1.e+07]\n"
     ]
    }
   ],
   "source": [
    "print(np.logspace(2, 7, 6))"
   ]
  },
  {
   "cell_type": "code",
   "execution_count": 3,
   "metadata": {},
   "outputs": [
    {
     "name": "stdout",
     "output_type": "stream",
     "text": [
      "Loading In Data\n",
      "Finished Loading Data\n"
     ]
    }
   ],
   "source": [
    "#datapath = '/Users/jessiejo/data/VBUDS/GroupStructurePaper/NeuralNetworks/All_Libraries/NewDataSetFull1.mat'\n",
    "datapath='/Volumes/data/LosAlamosSummer/GODIVA/GODIVA_data_0_12.mat'\n",
    "print('Loading In Data')\n",
    "kinf,GS=ut.LoadData(datapath, 0)\n",
    "#MakeGroupDensity(X, nDecades)\n",
    "Nfeatures = 1000;\n",
    "\n",
    "\n",
    "allData= ut.ProcessData(datapath, 1,Nfeatures,1,np.logspace(2, 7, Nfeatures),0)\n",
    "# allData: (100,000x1,000) y_direct: (100,000x3)\n",
    "print('Finished Loading Data')"
   ]
  },
  {
   "cell_type": "markdown",
   "metadata": {},
   "source": [
    "\n",
    "Load Data loads raw data from the .mat file\n",
    "Inputs\n",
    "datapath: Path to .mat file containing the data [string]\n",
    "BU: whether the data contains burnup; 1=burnup, 0=no burnup [bool]\n",
    "\n",
    "ProcessData is the serialization maker \n",
    "Inputs\n",
    "datapath: Path to .mat file containing the data [string]\n",
    "Percent of data to be used: in most cases full data set will be used but good for analysis [double](0-1)\n",
    "ndecades: Number of decades wanted in equal lethargy serialization. Number is ignored if custom serialization inputted [int]\n",
    "mode: equal lethargy mode (0) or custom serialization mode (1) [boolean]\n",
    "input serial: a custom serialization regime (ignored if mode is not 1) [numpy array]\n",
    "BU: whether the data contains burnup; 1=burnup, 0=no burnup [bool]"
   ]
  },
  {
   "cell_type": "code",
   "execution_count": 4,
   "metadata": {},
   "outputs": [
    {
     "name": "stdout",
     "output_type": "stream",
     "text": [
      "(50000,)\n",
      "(50000, 999)\n",
      "4.0\n"
     ]
    }
   ],
   "source": [
    "\n",
    "print(kinf.shape)\n",
    "print(allData.shape)\n",
    "print(sum(allData[0,:]))"
   ]
  },
  {
   "cell_type": "code",
   "execution_count": 5,
   "metadata": {
    "scrolled": true
   },
   "outputs": [
    {
     "name": "stdout",
     "output_type": "stream",
     "text": [
      "(9999,)\n",
      "(4999,)\n",
      "(50000,)\n",
      "(35000,)\n"
     ]
    }
   ],
   "source": [
    "Nsamples,Ndecades = allData.shape\n",
    "vldF=.1\n",
    "testF=.2\n",
    "normConst=1#np.linalg.norm(kinf)\n",
    "y_norm=np.array(kinf/normConst)\n",
    "\n",
    "X, X_test, y, y_test, vldF_corr = ut.makeFractions(Nsamples, vldF, testF, allData, y_norm, 0)\n",
    "\n",
    "\n",
    "NtrainingSamples = int(Nsamples*(1 - testF))\n",
    "tranValSplit=int(NtrainingSamples*(1-vldF_corr))\n",
    "X_train=X[:tranValSplit,:]\n",
    "y_train=y[:tranValSplit]\n",
    "X_val=X[tranValSplit+1:,:]\n",
    "y_val=y[tranValSplit+1:]\n",
    "print(y_test.shape)\n",
    "print(y_val.shape)\n",
    "print(y_norm.shape)\n",
    "print(y_train.shape)"
   ]
  },
  {
   "cell_type": "markdown",
   "metadata": {},
   "source": [
    "makeFractions splits the data into appropriatly sized sets\n",
    "Nsamples is the number of samples of the data set\n",
    "vldF is the validation fraction\n",
    "testF is the test fraction\n",
    "allData is the set of serialzed group structures\n",
    "y_norm is the kinfs that correspond to the serialized group structures (normalized or otherwise)\n",
    "BU (the last input) is a boolean determining whether the data contains burnup [Boolean] (used in the same manner as previous)"
   ]
  },
  {
   "cell_type": "code",
   "execution_count": 6,
   "metadata": {},
   "outputs": [
    {
     "name": "stdout",
     "output_type": "stream",
     "text": [
      "Model: \"sequential\"\n",
      "_________________________________________________________________\n",
      "Layer (type)                 Output Shape              Param #   \n",
      "=================================================================\n",
      "hidden_1 (Dense)             (None, 832)               832000    \n",
      "_________________________________________________________________\n",
      "hidden_2 (Dense)             (None, 554)               461482    \n",
      "_________________________________________________________________\n",
      "output (Dense)               (None, 1)                 555       \n",
      "=================================================================\n",
      "Total params: 1,294,037\n",
      "Trainable params: 1,294,037\n",
      "Non-trainable params: 0\n",
      "_________________________________________________________________\n"
     ]
    }
   ],
   "source": [
    "batch_size=531\n",
    "model = tf.keras.Sequential([\n",
    "    layers.Dense(832, activation='relu', name='hidden_1', input_dim=999),\n",
    "    layers.Dense(554, activation='relu',  name='hidden_2'),\n",
    "    layers.Dense(1, activation='linear',name='output')])\n",
    "model.compile(loss=\"MAE\",metrics=\"MAE\")\n",
    "model.build()\n",
    "model.summary()"
   ]
  },
  {
   "cell_type": "code",
   "execution_count": 7,
   "metadata": {},
   "outputs": [
    {
     "name": "stdout",
     "output_type": "stream",
     "text": [
      "Epoch 1/800\n",
      "66/66 [==============================] - 1s 20ms/step - loss: 0.1644 - val_loss: 0.0744\n",
      "Epoch 2/800\n",
      "66/66 [==============================] - 1s 18ms/step - loss: 0.0570 - val_loss: 0.0517\n",
      "Epoch 3/800\n",
      "66/66 [==============================] - 1s 18ms/step - loss: 0.0417 - val_loss: 0.0450\n",
      "Epoch 4/800\n",
      "66/66 [==============================] - 1s 18ms/step - loss: 0.0335 - val_loss: 0.0415\n",
      "Epoch 5/800\n",
      "66/66 [==============================] - 1s 18ms/step - loss: 0.0284 - val_loss: 0.0374\n",
      "Epoch 6/800\n",
      "66/66 [==============================] - 1s 18ms/step - loss: 0.0262 - val_loss: 0.0367\n",
      "Epoch 7/800\n",
      "66/66 [==============================] - 1s 19ms/step - loss: 0.0235 - val_loss: 0.0330\n",
      "Epoch 8/800\n",
      "66/66 [==============================] - 1s 19ms/step - loss: 0.0213 - val_loss: 0.0303\n",
      "Epoch 9/800\n",
      "66/66 [==============================] - 1s 17ms/step - loss: 0.0189 - val_loss: 0.0283\n",
      "Epoch 10/800\n",
      "66/66 [==============================] - 1s 20ms/step - loss: 0.0167 - val_loss: 0.0268\n",
      "Epoch 11/800\n",
      "66/66 [==============================] - 1s 20ms/step - loss: 0.0145 - val_loss: 0.0237\n",
      "Epoch 12/800\n",
      "66/66 [==============================] - 1s 20ms/step - loss: 0.0132 - val_loss: 0.0225\n",
      "Epoch 13/800\n",
      "66/66 [==============================] - 1s 20ms/step - loss: 0.0128 - val_loss: 0.0228\n",
      "Epoch 14/800\n",
      "66/66 [==============================] - 1s 20ms/step - loss: 0.0108 - val_loss: 0.0200\n",
      "Epoch 15/800\n",
      "66/66 [==============================] - 1s 18ms/step - loss: 0.0098 - val_loss: 0.0214\n",
      "Epoch 16/800\n",
      "66/66 [==============================] - 1s 17ms/step - loss: 0.0097 - val_loss: 0.0187\n",
      "Epoch 17/800\n",
      "66/66 [==============================] - 1s 18ms/step - loss: 0.0088 - val_loss: 0.0180\n",
      "Epoch 18/800\n",
      "66/66 [==============================] - 1s 18ms/step - loss: 0.0084 - val_loss: 0.0189\n",
      "Epoch 19/800\n",
      "66/66 [==============================] - 1s 17ms/step - loss: 0.0080 - val_loss: 0.0174\n",
      "Epoch 20/800\n",
      "66/66 [==============================] - 1s 18ms/step - loss: 0.0075 - val_loss: 0.0170\n",
      "Epoch 21/800\n",
      "66/66 [==============================] - 1s 20ms/step - loss: 0.0077 - val_loss: 0.0170\n",
      "Epoch 22/800\n",
      "66/66 [==============================] - 1s 20ms/step - loss: 0.0070 - val_loss: 0.0171\n",
      "Epoch 23/800\n",
      "66/66 [==============================] - 1s 20ms/step - loss: 0.0070 - val_loss: 0.0168\n",
      "Epoch 24/800\n",
      "66/66 [==============================] - 1s 20ms/step - loss: 0.0068 - val_loss: 0.0160\n",
      "Epoch 25/800\n",
      "66/66 [==============================] - 1s 20ms/step - loss: 0.0066 - val_loss: 0.0158\n",
      "Epoch 26/800\n",
      "66/66 [==============================] - 1s 19ms/step - loss: 0.0065 - val_loss: 0.0157\n",
      "Epoch 27/800\n",
      "66/66 [==============================] - 1s 20ms/step - loss: 0.0064 - val_loss: 0.0155\n",
      "Epoch 28/800\n",
      "66/66 [==============================] - 1s 20ms/step - loss: 0.0060 - val_loss: 0.0152\n",
      "Epoch 29/800\n",
      "66/66 [==============================] - 1s 20ms/step - loss: 0.0063 - val_loss: 0.0150\n",
      "Epoch 30/800\n",
      "66/66 [==============================] - 1s 20ms/step - loss: 0.0057 - val_loss: 0.0150\n",
      "Epoch 31/800\n",
      "66/66 [==============================] - 1s 20ms/step - loss: 0.0055 - val_loss: 0.0150\n",
      "Epoch 32/800\n",
      "66/66 [==============================] - 1s 20ms/step - loss: 0.0057 - val_loss: 0.0152\n",
      "Epoch 33/800\n",
      "66/66 [==============================] - 1s 20ms/step - loss: 0.0057 - val_loss: 0.0147\n",
      "Epoch 34/800\n",
      "66/66 [==============================] - 1s 20ms/step - loss: 0.0058 - val_loss: 0.0144\n",
      "Epoch 35/800\n",
      "66/66 [==============================] - 1s 21ms/step - loss: 0.0055 - val_loss: 0.0149\n",
      "Epoch 36/800\n",
      "66/66 [==============================] - 1s 20ms/step - loss: 0.0053 - val_loss: 0.0140\n",
      "Epoch 37/800\n",
      "66/66 [==============================] - 1s 20ms/step - loss: 0.0052 - val_loss: 0.0139\n",
      "Epoch 38/800\n",
      "66/66 [==============================] - 1s 20ms/step - loss: 0.0060 - val_loss: 0.0145\n",
      "Epoch 39/800\n",
      "66/66 [==============================] - 1s 20ms/step - loss: 0.0053 - val_loss: 0.0137\n",
      "Epoch 40/800\n",
      "66/66 [==============================] - 1s 20ms/step - loss: 0.0052 - val_loss: 0.0136\n",
      "Epoch 41/800\n",
      "66/66 [==============================] - 1s 20ms/step - loss: 0.0050 - val_loss: 0.0134\n",
      "Epoch 42/800\n",
      "66/66 [==============================] - 1s 20ms/step - loss: 0.0050 - val_loss: 0.0133\n",
      "Epoch 43/800\n",
      "66/66 [==============================] - 1s 21ms/step - loss: 0.0050 - val_loss: 0.0132\n",
      "Epoch 44/800\n",
      "66/66 [==============================] - 1s 20ms/step - loss: 0.0049 - val_loss: 0.0133\n",
      "Epoch 45/800\n",
      "66/66 [==============================] - 1s 21ms/step - loss: 0.0051 - val_loss: 0.0131\n",
      "Epoch 46/800\n",
      "66/66 [==============================] - 1s 19ms/step - loss: 0.0053 - val_loss: 0.0128\n",
      "Epoch 47/800\n",
      "66/66 [==============================] - 1s 21ms/step - loss: 0.0048 - val_loss: 0.0127\n",
      "Epoch 48/800\n",
      "66/66 [==============================] - 1s 20ms/step - loss: 0.0049 - val_loss: 0.0125\n",
      "Epoch 49/800\n",
      "66/66 [==============================] - 1s 21ms/step - loss: 0.0046 - val_loss: 0.0127\n",
      "Epoch 50/800\n",
      "66/66 [==============================] - 1s 21ms/step - loss: 0.0047 - val_loss: 0.0123\n",
      "Epoch 51/800\n",
      "66/66 [==============================] - 1s 20ms/step - loss: 0.0056 - val_loss: 0.0125\n",
      "Epoch 52/800\n",
      "66/66 [==============================] - 1s 20ms/step - loss: 0.0046 - val_loss: 0.0124\n",
      "Epoch 53/800\n",
      "66/66 [==============================] - 1s 20ms/step - loss: 0.0048 - val_loss: 0.0131\n",
      "Epoch 54/800\n",
      "66/66 [==============================] - 1s 18ms/step - loss: 0.0047 - val_loss: 0.0119\n",
      "Epoch 55/800\n",
      "66/66 [==============================] - 1s 19ms/step - loss: 0.0044 - val_loss: 0.0121\n",
      "Epoch 56/800\n",
      "66/66 [==============================] - 1s 20ms/step - loss: 0.0045 - val_loss: 0.0123\n",
      "Epoch 57/800\n",
      "66/66 [==============================] - 1s 21ms/step - loss: 0.0046 - val_loss: 0.0116\n",
      "Epoch 58/800\n",
      "66/66 [==============================] - 1s 19ms/step - loss: 0.0044 - val_loss: 0.0116\n",
      "Epoch 59/800\n",
      "66/66 [==============================] - 1s 17ms/step - loss: 0.0045 - val_loss: 0.0116\n",
      "Epoch 60/800\n",
      "66/66 [==============================] - 1s 19ms/step - loss: 0.0044 - val_loss: 0.0116\n",
      "Epoch 61/800\n",
      "66/66 [==============================] - 1s 20ms/step - loss: 0.0043 - val_loss: 0.0114\n",
      "Epoch 62/800\n",
      "66/66 [==============================] - 1s 20ms/step - loss: 0.0042 - val_loss: 0.0112\n",
      "Epoch 63/800\n",
      "66/66 [==============================] - 1s 20ms/step - loss: 0.0041 - val_loss: 0.0114\n",
      "Epoch 64/800\n",
      "66/66 [==============================] - 1s 20ms/step - loss: 0.0044 - val_loss: 0.0112\n",
      "Epoch 65/800\n",
      "66/66 [==============================] - 1s 20ms/step - loss: 0.0045 - val_loss: 0.0112\n",
      "Epoch 66/800\n",
      "66/66 [==============================] - 1s 20ms/step - loss: 0.0041 - val_loss: 0.0113\n",
      "Epoch 67/800\n",
      "66/66 [==============================] - 1s 21ms/step - loss: 0.0045 - val_loss: 0.0118\n",
      "Epoch 68/800\n",
      "66/66 [==============================] - 1s 21ms/step - loss: 0.0044 - val_loss: 0.0111\n",
      "Epoch 69/800\n",
      "66/66 [==============================] - 1s 20ms/step - loss: 0.0042 - val_loss: 0.0109\n",
      "Epoch 70/800\n",
      "66/66 [==============================] - 1s 19ms/step - loss: 0.0049 - val_loss: 0.0108\n",
      "Epoch 71/800\n",
      "66/66 [==============================] - 1s 20ms/step - loss: 0.0041 - val_loss: 0.0109\n",
      "Epoch 72/800\n",
      "66/66 [==============================] - 1s 20ms/step - loss: 0.0042 - val_loss: 0.0105\n",
      "Epoch 73/800\n",
      "66/66 [==============================] - 1s 20ms/step - loss: 0.0043 - val_loss: 0.0106\n",
      "Epoch 74/800\n",
      "66/66 [==============================] - 1s 20ms/step - loss: 0.0039 - val_loss: 0.0105\n",
      "Epoch 75/800\n",
      "66/66 [==============================] - 1s 20ms/step - loss: 0.0038 - val_loss: 0.0103\n",
      "Epoch 76/800\n",
      "66/66 [==============================] - 1s 20ms/step - loss: 0.0040 - val_loss: 0.0114\n",
      "Epoch 77/800\n",
      "66/66 [==============================] - 1s 20ms/step - loss: 0.0038 - val_loss: 0.0100\n",
      "Epoch 78/800\n",
      "66/66 [==============================] - 1s 20ms/step - loss: 0.0038 - val_loss: 0.0102\n",
      "Epoch 79/800\n",
      "66/66 [==============================] - 1s 20ms/step - loss: 0.0040 - val_loss: 0.0108\n",
      "Epoch 80/800\n",
      "66/66 [==============================] - 1s 20ms/step - loss: 0.0041 - val_loss: 0.0104\n",
      "Epoch 81/800\n",
      "66/66 [==============================] - 1s 20ms/step - loss: 0.0040 - val_loss: 0.0101\n",
      "Epoch 82/800\n"
     ]
    },
    {
     "name": "stdout",
     "output_type": "stream",
     "text": [
      "66/66 [==============================] - 1s 20ms/step - loss: 0.0038 - val_loss: 0.0100\n",
      "Epoch 83/800\n",
      "66/66 [==============================] - 1s 19ms/step - loss: 0.0041 - val_loss: 0.0100\n",
      "Epoch 84/800\n",
      "66/66 [==============================] - 1s 20ms/step - loss: 0.0039 - val_loss: 0.0101\n",
      "Epoch 85/800\n",
      "66/66 [==============================] - 1s 20ms/step - loss: 0.0039 - val_loss: 0.0099\n",
      "Epoch 86/800\n",
      "66/66 [==============================] - 1s 18ms/step - loss: 0.0039 - val_loss: 0.0100\n",
      "Epoch 87/800\n",
      "66/66 [==============================] - 1s 17ms/step - loss: 0.0038 - val_loss: 0.0098\n",
      "Epoch 88/800\n",
      "66/66 [==============================] - 1s 18ms/step - loss: 0.0037 - val_loss: 0.0099\n",
      "Epoch 89/800\n",
      "66/66 [==============================] - 1s 18ms/step - loss: 0.0038 - val_loss: 0.0102\n",
      "Epoch 90/800\n",
      "66/66 [==============================] - 1s 17ms/step - loss: 0.0035 - val_loss: 0.0101\n",
      "Epoch 91/800\n",
      "66/66 [==============================] - 1s 20ms/step - loss: 0.0036 - val_loss: 0.0098\n",
      "Epoch 92/800\n",
      "66/66 [==============================] - 1s 20ms/step - loss: 0.0036 - val_loss: 0.0098\n",
      "Epoch 93/800\n",
      "66/66 [==============================] - 1s 18ms/step - loss: 0.0049 - val_loss: 0.0097\n",
      "Epoch 94/800\n",
      "66/66 [==============================] - 1s 18ms/step - loss: 0.0038 - val_loss: 0.0098\n",
      "Epoch 95/800\n",
      "66/66 [==============================] - 1s 19ms/step - loss: 0.0036 - val_loss: 0.0098\n",
      "Epoch 96/800\n",
      "66/66 [==============================] - 1s 20ms/step - loss: 0.0035 - val_loss: 0.0098\n",
      "Epoch 97/800\n",
      "66/66 [==============================] - 1s 20ms/step - loss: 0.0037 - val_loss: 0.0096\n",
      "Epoch 98/800\n",
      "66/66 [==============================] - 1s 19ms/step - loss: 0.0036 - val_loss: 0.0096\n",
      "Epoch 99/800\n",
      "66/66 [==============================] - 1s 19ms/step - loss: 0.0039 - val_loss: 0.0097\n",
      "Epoch 100/800\n",
      "66/66 [==============================] - 1s 20ms/step - loss: 0.0037 - val_loss: 0.0098\n",
      "Epoch 101/800\n",
      "66/66 [==============================] - 1s 20ms/step - loss: 0.0049 - val_loss: 0.0108\n",
      "Epoch 102/800\n",
      "66/66 [==============================] - 1s 20ms/step - loss: 0.0041 - val_loss: 0.0093\n",
      "Epoch 103/800\n",
      "66/66 [==============================] - 1s 20ms/step - loss: 0.0036 - val_loss: 0.0095\n",
      "Epoch 104/800\n",
      "66/66 [==============================] - 1s 20ms/step - loss: 0.0035 - val_loss: 0.0095\n",
      "Epoch 105/800\n",
      "66/66 [==============================] - 1s 20ms/step - loss: 0.0034 - val_loss: 0.0093\n",
      "Epoch 106/800\n",
      "66/66 [==============================] - 1s 20ms/step - loss: 0.0035 - val_loss: 0.0094\n",
      "Epoch 107/800\n",
      "66/66 [==============================] - 1s 20ms/step - loss: 0.0035 - val_loss: 0.0092\n",
      "Epoch 108/800\n",
      "66/66 [==============================] - 1s 21ms/step - loss: 0.0033 - val_loss: 0.0094\n",
      "Epoch 109/800\n",
      "66/66 [==============================] - 1s 20ms/step - loss: 0.0035 - val_loss: 0.0091\n",
      "Epoch 110/800\n",
      "66/66 [==============================] - 1s 21ms/step - loss: 0.0032 - val_loss: 0.0092\n",
      "Epoch 111/800\n",
      "66/66 [==============================] - 1s 23ms/step - loss: 0.0032 - val_loss: 0.0093\n",
      "Epoch 112/800\n",
      "66/66 [==============================] - 1s 22ms/step - loss: 0.0033 - val_loss: 0.0092\n",
      "Epoch 113/800\n",
      "66/66 [==============================] - 1s 22ms/step - loss: 0.0031 - val_loss: 0.0093\n",
      "Epoch 114/800\n",
      "66/66 [==============================] - 1s 22ms/step - loss: 0.0034 - val_loss: 0.0093\n",
      "Epoch 115/800\n",
      "66/66 [==============================] - 2s 23ms/step - loss: 0.0032 - val_loss: 0.0091\n",
      "Epoch 116/800\n",
      "66/66 [==============================] - 1s 22ms/step - loss: 0.0031 - val_loss: 0.0093\n",
      "Epoch 117/800\n",
      "66/66 [==============================] - 1s 22ms/step - loss: 0.0042 - val_loss: 0.0092\n",
      "Epoch 118/800\n",
      "66/66 [==============================] - 1s 22ms/step - loss: 0.0032 - val_loss: 0.0089\n",
      "Epoch 119/800\n",
      "66/66 [==============================] - 1s 22ms/step - loss: 0.0033 - val_loss: 0.0089\n",
      "Epoch 120/800\n",
      "66/66 [==============================] - 2s 23ms/step - loss: 0.0032 - val_loss: 0.0090\n",
      "Epoch 121/800\n",
      "66/66 [==============================] - 2s 23ms/step - loss: 0.0031 - val_loss: 0.0089\n",
      "Epoch 122/800\n",
      "66/66 [==============================] - 2s 23ms/step - loss: 0.0033 - val_loss: 0.0090\n",
      "Epoch 123/800\n",
      "66/66 [==============================] - 2s 23ms/step - loss: 0.0031 - val_loss: 0.0090\n",
      "Epoch 124/800\n",
      "66/66 [==============================] - 2s 23ms/step - loss: 0.0030 - val_loss: 0.0087\n",
      "Epoch 125/800\n",
      "66/66 [==============================] - 2s 24ms/step - loss: 0.0032 - val_loss: 0.0093\n",
      "Epoch 126/800\n",
      "66/66 [==============================] - 2s 25ms/step - loss: 0.0031 - val_loss: 0.0089\n",
      "Epoch 127/800\n",
      "66/66 [==============================] - 2s 25ms/step - loss: 0.0035 - val_loss: 0.0088\n",
      "Epoch 128/800\n",
      "66/66 [==============================] - 2s 26ms/step - loss: 0.0030 - val_loss: 0.0088\n",
      "Epoch 129/800\n",
      "66/66 [==============================] - 2s 25ms/step - loss: 0.0030 - val_loss: 0.0088\n",
      "Epoch 130/800\n",
      "66/66 [==============================] - 2s 25ms/step - loss: 0.0032 - val_loss: 0.0087\n",
      "Epoch 131/800\n",
      "66/66 [==============================] - 2s 25ms/step - loss: 0.0040 - val_loss: 0.0098\n",
      "Epoch 132/800\n",
      "66/66 [==============================] - 2s 26ms/step - loss: 0.0037 - val_loss: 0.0088\n",
      "Epoch 133/800\n",
      "66/66 [==============================] - 2s 25ms/step - loss: 0.0031 - val_loss: 0.0086\n",
      "Epoch 134/800\n",
      "66/66 [==============================] - 2s 27ms/step - loss: 0.0030 - val_loss: 0.0086\n",
      "Epoch 135/800\n",
      "66/66 [==============================] - 2s 28ms/step - loss: 0.0029 - val_loss: 0.0086\n",
      "Epoch 136/800\n",
      "66/66 [==============================] - 2s 28ms/step - loss: 0.0031 - val_loss: 0.0088\n",
      "Epoch 137/800\n",
      "66/66 [==============================] - 2s 27ms/step - loss: 0.0030 - val_loss: 0.0089\n",
      "Epoch 138/800\n",
      "66/66 [==============================] - 2s 28ms/step - loss: 0.0030 - val_loss: 0.0085\n",
      "Epoch 139/800\n",
      "66/66 [==============================] - 2s 29ms/step - loss: 0.0030 - val_loss: 0.0086\n",
      "Epoch 140/800\n",
      "66/66 [==============================] - 2s 29ms/step - loss: 0.0029 - val_loss: 0.0085\n",
      "Epoch 141/800\n",
      "66/66 [==============================] - 2s 31ms/step - loss: 0.0029 - val_loss: 0.0085\n",
      "Epoch 142/800\n",
      "66/66 [==============================] - 2s 31ms/step - loss: 0.0028 - val_loss: 0.0085\n",
      "Epoch 143/800\n",
      "66/66 [==============================] - 2s 30ms/step - loss: 0.0029 - val_loss: 0.0085\n",
      "Epoch 144/800\n",
      "66/66 [==============================] - 2s 30ms/step - loss: 0.0029 - val_loss: 0.0084\n",
      "Epoch 145/800\n",
      "66/66 [==============================] - 2s 30ms/step - loss: 0.0029 - val_loss: 0.0086\n",
      "Epoch 146/800\n",
      "66/66 [==============================] - 2s 33ms/step - loss: 0.0030 - val_loss: 0.0085\n",
      "Epoch 147/800\n",
      "66/66 [==============================] - 2s 33ms/step - loss: 0.0028 - val_loss: 0.0084\n",
      "Epoch 148/800\n",
      "66/66 [==============================] - 2s 33ms/step - loss: 0.0028 - val_loss: 0.0083\n",
      "Epoch 149/800\n",
      "66/66 [==============================] - 2s 32ms/step - loss: 0.0027 - val_loss: 0.0083\n",
      "Epoch 150/800\n",
      "66/66 [==============================] - 2s 34ms/step - loss: 0.0030 - val_loss: 0.0084\n",
      "Epoch 151/800\n",
      "66/66 [==============================] - 2s 35ms/step - loss: 0.0029 - val_loss: 0.0086\n",
      "Epoch 152/800\n",
      "66/66 [==============================] - 2s 34ms/step - loss: 0.0029 - val_loss: 0.0083\n",
      "Epoch 153/800\n",
      "66/66 [==============================] - 2s 35ms/step - loss: 0.0028 - val_loss: 0.0086\n",
      "Epoch 154/800\n",
      "66/66 [==============================] - 2s 34ms/step - loss: 0.0029 - val_loss: 0.0085\n",
      "Epoch 155/800\n",
      "66/66 [==============================] - 2s 34ms/step - loss: 0.0031 - val_loss: 0.0085\n",
      "Epoch 156/800\n",
      "66/66 [==============================] - 2s 35ms/step - loss: 0.0029 - val_loss: 0.0083\n",
      "Epoch 157/800\n",
      "66/66 [==============================] - 2s 37ms/step - loss: 0.0028 - val_loss: 0.0083\n",
      "Epoch 158/800\n",
      "66/66 [==============================] - 2s 37ms/step - loss: 0.0027 - val_loss: 0.0086\n",
      "Epoch 159/800\n",
      "66/66 [==============================] - 2s 37ms/step - loss: 0.0029 - val_loss: 0.0084\n",
      "Epoch 160/800\n",
      "66/66 [==============================] - 2s 37ms/step - loss: 0.0028 - val_loss: 0.0082\n",
      "Epoch 161/800\n",
      "66/66 [==============================] - 2s 37ms/step - loss: 0.0028 - val_loss: 0.0083\n",
      "Epoch 162/800\n"
     ]
    },
    {
     "name": "stdout",
     "output_type": "stream",
     "text": [
      "66/66 [==============================] - 2s 36ms/step - loss: 0.0027 - val_loss: 0.0083\n",
      "Epoch 163/800\n",
      "66/66 [==============================] - 2s 35ms/step - loss: 0.0030 - val_loss: 0.0084\n",
      "Epoch 164/800\n",
      "66/66 [==============================] - 2s 33ms/step - loss: 0.0032 - val_loss: 0.0085\n",
      "Epoch 165/800\n",
      "66/66 [==============================] - 2s 33ms/step - loss: 0.0028 - val_loss: 0.0083\n",
      "Epoch 166/800\n",
      "66/66 [==============================] - 2s 33ms/step - loss: 0.0026 - val_loss: 0.0082\n",
      "Epoch 167/800\n",
      "66/66 [==============================] - 2s 31ms/step - loss: 0.0026 - val_loss: 0.0082\n",
      "Epoch 168/800\n",
      "66/66 [==============================] - 2s 31ms/step - loss: 0.0027 - val_loss: 0.0081\n",
      "Epoch 169/800\n",
      "66/66 [==============================] - 2s 32ms/step - loss: 0.0027 - val_loss: 0.0083\n",
      "Epoch 170/800\n",
      "66/66 [==============================] - 2s 30ms/step - loss: 0.0027 - val_loss: 0.0082\n",
      "Epoch 171/800\n",
      "66/66 [==============================] - 2s 30ms/step - loss: 0.0027 - val_loss: 0.0082\n",
      "Epoch 172/800\n",
      "66/66 [==============================] - 2s 30ms/step - loss: 0.0029 - val_loss: 0.0082\n",
      "Epoch 173/800\n",
      "66/66 [==============================] - 2s 30ms/step - loss: 0.0026 - val_loss: 0.0081\n",
      "Epoch 174/800\n",
      "66/66 [==============================] - 2s 29ms/step - loss: 0.0026 - val_loss: 0.0082\n",
      "Epoch 175/800\n",
      "66/66 [==============================] - 2s 30ms/step - loss: 0.0026 - val_loss: 0.0080\n",
      "Epoch 176/800\n",
      "66/66 [==============================] - 2s 29ms/step - loss: 0.0027 - val_loss: 0.0081\n",
      "Epoch 177/800\n",
      "66/66 [==============================] - 2s 28ms/step - loss: 0.0026 - val_loss: 0.0080\n",
      "Epoch 178/800\n",
      "66/66 [==============================] - 2s 27ms/step - loss: 0.0027 - val_loss: 0.0081\n",
      "Epoch 179/800\n",
      "66/66 [==============================] - 2s 26ms/step - loss: 0.0029 - val_loss: 0.0085\n",
      "Epoch 180/800\n",
      "66/66 [==============================] - 2s 25ms/step - loss: 0.0027 - val_loss: 0.0080\n",
      "Epoch 181/800\n",
      "66/66 [==============================] - 2s 25ms/step - loss: 0.0028 - val_loss: 0.0081\n",
      "Epoch 182/800\n",
      "66/66 [==============================] - 2s 25ms/step - loss: 0.0026 - val_loss: 0.0081\n",
      "Epoch 183/800\n",
      "66/66 [==============================] - 2s 25ms/step - loss: 0.0026 - val_loss: 0.0080\n",
      "Epoch 184/800\n",
      "66/66 [==============================] - 2s 25ms/step - loss: 0.0025 - val_loss: 0.0080\n",
      "Epoch 185/800\n",
      "66/66 [==============================] - 2s 25ms/step - loss: 0.0025 - val_loss: 0.0081\n",
      "Epoch 186/800\n",
      "66/66 [==============================] - 2s 25ms/step - loss: 0.0028 - val_loss: 0.0083\n",
      "Epoch 187/800\n",
      "66/66 [==============================] - 2s 25ms/step - loss: 0.0026 - val_loss: 0.0081\n",
      "Epoch 188/800\n",
      "66/66 [==============================] - 2s 25ms/step - loss: 0.0026 - val_loss: 0.0081\n",
      "Epoch 189/800\n",
      "66/66 [==============================] - 2s 24ms/step - loss: 0.0025 - val_loss: 0.0080\n",
      "Epoch 190/800\n",
      "66/66 [==============================] - 2s 25ms/step - loss: 0.0026 - val_loss: 0.0079\n",
      "Epoch 191/800\n",
      "66/66 [==============================] - 2s 24ms/step - loss: 0.0027 - val_loss: 0.0079\n",
      "Epoch 192/800\n",
      "66/66 [==============================] - 1s 23ms/step - loss: 0.0025 - val_loss: 0.0080\n",
      "Epoch 193/800\n",
      "66/66 [==============================] - 2s 23ms/step - loss: 0.0026 - val_loss: 0.0079\n",
      "Epoch 194/800\n",
      "66/66 [==============================] - 1s 23ms/step - loss: 0.0026 - val_loss: 0.0080\n",
      "Epoch 195/800\n",
      "66/66 [==============================] - 1s 23ms/step - loss: 0.0034 - val_loss: 0.0089\n",
      "Epoch 196/800\n",
      "66/66 [==============================] - 1s 23ms/step - loss: 0.0042 - val_loss: 0.0088\n",
      "Epoch 197/800\n",
      "66/66 [==============================] - 2s 23ms/step - loss: 0.0028 - val_loss: 0.0080\n",
      "Epoch 198/800\n",
      "66/66 [==============================] - 1s 22ms/step - loss: 0.0025 - val_loss: 0.0081\n",
      "Epoch 199/800\n",
      "66/66 [==============================] - 1s 22ms/step - loss: 0.0025 - val_loss: 0.0080\n",
      "Epoch 200/800\n",
      "66/66 [==============================] - 1s 22ms/step - loss: 0.0027 - val_loss: 0.0084\n",
      "Epoch 201/800\n",
      "66/66 [==============================] - 1s 21ms/step - loss: 0.0025 - val_loss: 0.0080\n",
      "Epoch 202/800\n",
      "66/66 [==============================] - 1s 21ms/step - loss: 0.0025 - val_loss: 0.0081\n",
      "Epoch 203/800\n",
      "66/66 [==============================] - 1s 21ms/step - loss: 0.0024 - val_loss: 0.0079\n",
      "Epoch 204/800\n",
      "66/66 [==============================] - 1s 22ms/step - loss: 0.0024 - val_loss: 0.0079\n",
      "Epoch 205/800\n",
      "66/66 [==============================] - 1s 22ms/step - loss: 0.0025 - val_loss: 0.0079\n",
      "Epoch 206/800\n",
      "66/66 [==============================] - 1s 22ms/step - loss: 0.0025 - val_loss: 0.0079\n",
      "Epoch 207/800\n",
      "66/66 [==============================] - 1s 23ms/step - loss: 0.0024 - val_loss: 0.0079\n",
      "Epoch 208/800\n",
      "66/66 [==============================] - 1s 22ms/step - loss: 0.0025 - val_loss: 0.0078\n",
      "Epoch 209/800\n",
      "66/66 [==============================] - 1s 21ms/step - loss: 0.0023 - val_loss: 0.0079\n",
      "Epoch 210/800\n",
      "66/66 [==============================] - 1s 21ms/step - loss: 0.0025 - val_loss: 0.0078\n",
      "Epoch 211/800\n",
      "66/66 [==============================] - 1s 21ms/step - loss: 0.0022 - val_loss: 0.0078\n",
      "Epoch 212/800\n",
      "66/66 [==============================] - 1s 22ms/step - loss: 0.0025 - val_loss: 0.0079\n",
      "Epoch 213/800\n",
      "66/66 [==============================] - 1s 22ms/step - loss: 0.0025 - val_loss: 0.0079\n",
      "Epoch 214/800\n",
      "66/66 [==============================] - 1s 22ms/step - loss: 0.0034 - val_loss: 0.0081\n",
      "Epoch 215/800\n",
      "66/66 [==============================] - 1s 22ms/step - loss: 0.0032 - val_loss: 0.0079\n",
      "Epoch 216/800\n",
      "66/66 [==============================] - 1s 22ms/step - loss: 0.0025 - val_loss: 0.0078\n",
      "Epoch 217/800\n",
      "66/66 [==============================] - 1s 22ms/step - loss: 0.0024 - val_loss: 0.0078\n",
      "Epoch 218/800\n",
      "66/66 [==============================] - 1s 21ms/step - loss: 0.0029 - val_loss: 0.0079\n",
      "Epoch 219/800\n",
      "66/66 [==============================] - 1s 21ms/step - loss: 0.0025 - val_loss: 0.0078\n",
      "Epoch 220/800\n",
      "66/66 [==============================] - 1s 21ms/step - loss: 0.0025 - val_loss: 0.0078\n",
      "Epoch 221/800\n",
      "66/66 [==============================] - 1s 21ms/step - loss: 0.0022 - val_loss: 0.0078\n",
      "Epoch 222/800\n",
      "66/66 [==============================] - 1s 21ms/step - loss: 0.0024 - val_loss: 0.0079\n",
      "Epoch 223/800\n",
      "66/66 [==============================] - 1s 21ms/step - loss: 0.0024 - val_loss: 0.0078\n",
      "Epoch 224/800\n",
      "66/66 [==============================] - 1s 21ms/step - loss: 0.0023 - val_loss: 0.0077\n",
      "Epoch 225/800\n",
      "66/66 [==============================] - 1s 21ms/step - loss: 0.0023 - val_loss: 0.0077\n",
      "Epoch 226/800\n",
      "66/66 [==============================] - 1s 22ms/step - loss: 0.0022 - val_loss: 0.0079\n",
      "Epoch 227/800\n",
      "66/66 [==============================] - 1s 22ms/step - loss: 0.0024 - val_loss: 0.0078\n",
      "Epoch 228/800\n",
      "66/66 [==============================] - 1s 22ms/step - loss: 0.0023 - val_loss: 0.0077\n",
      "Epoch 229/800\n",
      "66/66 [==============================] - 1s 21ms/step - loss: 0.0027 - val_loss: 0.0078\n",
      "Epoch 230/800\n",
      "66/66 [==============================] - 1s 22ms/step - loss: 0.0032 - val_loss: 0.0078\n",
      "Epoch 231/800\n",
      "66/66 [==============================] - 1s 22ms/step - loss: 0.0023 - val_loss: 0.0077\n",
      "Epoch 232/800\n",
      "66/66 [==============================] - 1s 22ms/step - loss: 0.0023 - val_loss: 0.0078\n",
      "Epoch 233/800\n",
      "66/66 [==============================] - 1s 21ms/step - loss: 0.0022 - val_loss: 0.0077\n",
      "Epoch 234/800\n",
      "66/66 [==============================] - 1s 21ms/step - loss: 0.0024 - val_loss: 0.0077\n",
      "Epoch 235/800\n",
      "66/66 [==============================] - 1s 21ms/step - loss: 0.0023 - val_loss: 0.0077\n",
      "Epoch 236/800\n",
      "66/66 [==============================] - 1s 21ms/step - loss: 0.0023 - val_loss: 0.0076\n",
      "Epoch 237/800\n",
      "66/66 [==============================] - 1s 22ms/step - loss: 0.0024 - val_loss: 0.0079\n",
      "Epoch 238/800\n",
      "66/66 [==============================] - 1s 21ms/step - loss: 0.0027 - val_loss: 0.0079\n",
      "Epoch 239/800\n",
      "66/66 [==============================] - 1s 21ms/step - loss: 0.0027 - val_loss: 0.0077\n",
      "Epoch 240/800\n",
      "66/66 [==============================] - 1s 21ms/step - loss: 0.0023 - val_loss: 0.0077\n",
      "Epoch 241/800\n",
      "66/66 [==============================] - 1s 21ms/step - loss: 0.0026 - val_loss: 0.0077\n",
      "Epoch 242/800\n"
     ]
    },
    {
     "name": "stdout",
     "output_type": "stream",
     "text": [
      "66/66 [==============================] - 1s 21ms/step - loss: 0.0025 - val_loss: 0.0077\n",
      "Epoch 243/800\n",
      "66/66 [==============================] - 1s 21ms/step - loss: 0.0022 - val_loss: 0.0077\n",
      "Epoch 244/800\n",
      "66/66 [==============================] - 1s 21ms/step - loss: 0.0023 - val_loss: 0.0078\n",
      "Epoch 245/800\n",
      "66/66 [==============================] - 1s 21ms/step - loss: 0.0024 - val_loss: 0.0077\n",
      "Epoch 246/800\n",
      "66/66 [==============================] - 1s 21ms/step - loss: 0.0023 - val_loss: 0.0077\n",
      "Epoch 247/800\n",
      "66/66 [==============================] - 1s 21ms/step - loss: 0.0023 - val_loss: 0.0077\n",
      "Epoch 248/800\n",
      "66/66 [==============================] - 1s 21ms/step - loss: 0.0024 - val_loss: 0.0078\n",
      "Epoch 249/800\n",
      "66/66 [==============================] - 1s 21ms/step - loss: 0.0024 - val_loss: 0.0077\n",
      "Epoch 250/800\n",
      "66/66 [==============================] - 1s 20ms/step - loss: 0.0026 - val_loss: 0.0077\n",
      "Epoch 251/800\n",
      "64/66 [============================>.] - ETA: 0s - loss: 0.0023Restoring model weights from the end of the best epoch.\n",
      "66/66 [==============================] - 1s 20ms/step - loss: 0.0023 - val_loss: 0.0078\n",
      "Epoch 00251: early stopping\n",
      "Epoch 1/800\n",
      "66/66 [==============================] - 1s 22ms/step - loss: 0.0019 - val_loss: 0.0076\n",
      "Epoch 2/800\n",
      "66/66 [==============================] - 1s 21ms/step - loss: 0.0015 - val_loss: 0.0076\n",
      "Epoch 3/800\n",
      "66/66 [==============================] - 1s 21ms/step - loss: 0.0013 - val_loss: 0.0076\n",
      "Epoch 4/800\n",
      "66/66 [==============================] - 1s 21ms/step - loss: 0.0012 - val_loss: 0.0076\n",
      "Epoch 5/800\n",
      "66/66 [==============================] - 1s 21ms/step - loss: 0.0011 - val_loss: 0.0075\n",
      "Epoch 6/800\n",
      "66/66 [==============================] - 1s 21ms/step - loss: 9.9112e-04 - val_loss: 0.0075\n",
      "Epoch 7/800\n",
      "66/66 [==============================] - 1s 21ms/step - loss: 9.2055e-04 - val_loss: 0.0075\n",
      "Epoch 8/800\n",
      "66/66 [==============================] - 1s 22ms/step - loss: 8.6484e-04 - val_loss: 0.0076\n",
      "Epoch 9/800\n",
      "66/66 [==============================] - 1s 21ms/step - loss: 8.3687e-04 - val_loss: 0.0075\n",
      "Epoch 10/800\n",
      "66/66 [==============================] - 1s 22ms/step - loss: 8.6572e-04 - val_loss: 0.0076\n",
      "Epoch 11/800\n",
      "66/66 [==============================] - 1s 22ms/step - loss: 7.7355e-04 - val_loss: 0.0075\n",
      "Epoch 12/800\n",
      "66/66 [==============================] - 1s 21ms/step - loss: 7.1518e-04 - val_loss: 0.0076\n",
      "Epoch 13/800\n",
      "66/66 [==============================] - 1s 22ms/step - loss: 7.0142e-04 - val_loss: 0.0076\n",
      "Epoch 14/800\n",
      "66/66 [==============================] - 1s 21ms/step - loss: 6.7866e-04 - val_loss: 0.0076\n",
      "Epoch 15/800\n",
      "66/66 [==============================] - 1s 22ms/step - loss: 6.5498e-04 - val_loss: 0.0075\n",
      "Epoch 16/800\n",
      "66/66 [==============================] - 1s 22ms/step - loss: 6.4989e-04 - val_loss: 0.0076\n",
      "Epoch 17/800\n",
      "66/66 [==============================] - 1s 22ms/step - loss: 6.1728e-04 - val_loss: 0.0076\n",
      "Epoch 18/800\n",
      "66/66 [==============================] - 1s 21ms/step - loss: 5.9798e-04 - val_loss: 0.0076\n",
      "Epoch 19/800\n",
      "66/66 [==============================] - 1s 22ms/step - loss: 5.9325e-04 - val_loss: 0.0076\n",
      "Epoch 20/800\n",
      "66/66 [==============================] - 2s 23ms/step - loss: 5.9001e-04 - val_loss: 0.0076\n",
      "Epoch 21/800\n",
      "64/66 [============================>.] - ETA: 0s - loss: 6.0038e-04Restoring model weights from the end of the best epoch.\n",
      "66/66 [==============================] - 2s 23ms/step - loss: 6.0247e-04 - val_loss: 0.0076\n",
      "Epoch 00021: early stopping\n",
      "Epoch 1/800\n",
      "66/66 [==============================] - 2s 24ms/step - loss: 8.8088e-04 - val_loss: 0.0075\n",
      "Epoch 2/800\n",
      "66/66 [==============================] - 1s 20ms/step - loss: 8.5092e-04 - val_loss: 0.0075\n",
      "Epoch 3/800\n",
      "66/66 [==============================] - 1s 21ms/step - loss: 8.3458e-04 - val_loss: 0.0075\n",
      "Epoch 4/800\n",
      "66/66 [==============================] - 1s 21ms/step - loss: 8.2137e-04 - val_loss: 0.0075\n",
      "Epoch 5/800\n",
      "66/66 [==============================] - 1s 21ms/step - loss: 8.0930e-04 - val_loss: 0.0075\n",
      "Epoch 6/800\n",
      "66/66 [==============================] - 1s 22ms/step - loss: 7.9810e-04 - val_loss: 0.0075\n",
      "Epoch 7/800\n",
      "66/66 [==============================] - 1s 22ms/step - loss: 7.8956e-04 - val_loss: 0.0075\n",
      "Epoch 8/800\n",
      "66/66 [==============================] - 1s 22ms/step - loss: 7.7813e-04 - val_loss: 0.0075\n",
      "Epoch 9/800\n",
      "66/66 [==============================] - 1s 22ms/step - loss: 7.6883e-04 - val_loss: 0.0075\n",
      "Epoch 10/800\n",
      "66/66 [==============================] - 1s 22ms/step - loss: 7.5973e-04 - val_loss: 0.0075\n",
      "Epoch 11/800\n",
      "66/66 [==============================] - 1s 22ms/step - loss: 7.5165e-04 - val_loss: 0.0075\n",
      "Epoch 12/800\n",
      "66/66 [==============================] - 1s 22ms/step - loss: 7.4363e-04 - val_loss: 0.0075\n",
      "Epoch 13/800\n",
      "66/66 [==============================] - 1s 22ms/step - loss: 7.3555e-04 - val_loss: 0.0075\n",
      "Epoch 14/800\n",
      "66/66 [==============================] - 1s 22ms/step - loss: 7.2698e-04 - val_loss: 0.0075\n",
      "Epoch 15/800\n",
      "66/66 [==============================] - 1s 22ms/step - loss: 7.2648e-04 - val_loss: 0.0075\n",
      "Epoch 16/800\n",
      "64/66 [============================>.] - ETA: 0s - loss: 7.1710e-04Restoring model weights from the end of the best epoch.\n",
      "66/66 [==============================] - 2s 23ms/step - loss: 7.1566e-04 - val_loss: 0.0075\n",
      "Epoch 00016: early stopping\n",
      "Epoch 1/800\n",
      "66/66 [==============================] - 1s 23ms/step - loss: 8.4860e-04 - val_loss: 0.0075\n",
      "Epoch 2/800\n",
      "66/66 [==============================] - 1s 22ms/step - loss: 8.4454e-04 - val_loss: 0.0075\n",
      "Epoch 3/800\n",
      "66/66 [==============================] - 2s 23ms/step - loss: 8.4209e-04 - val_loss: 0.0075\n",
      "Epoch 4/800\n",
      "66/66 [==============================] - 1s 22ms/step - loss: 8.3996e-04 - val_loss: 0.0075\n",
      "Epoch 5/800\n",
      "66/66 [==============================] - 1s 23ms/step - loss: 8.3797e-04 - val_loss: 0.0075\n",
      "Epoch 6/800\n",
      "66/66 [==============================] - 1s 22ms/step - loss: 8.3617e-04 - val_loss: 0.0075\n",
      "Epoch 7/800\n",
      "66/66 [==============================] - 1s 22ms/step - loss: 8.3379e-04 - val_loss: 0.0075\n",
      "Epoch 8/800\n",
      "66/66 [==============================] - 1s 22ms/step - loss: 8.3176e-04 - val_loss: 0.0075\n",
      "Epoch 9/800\n",
      "66/66 [==============================] - 2s 26ms/step - loss: 8.3028e-04 - val_loss: 0.0075\n",
      "Epoch 10/800\n",
      "66/66 [==============================] - 1s 22ms/step - loss: 8.2812e-04 - val_loss: 0.0075\n",
      "Epoch 11/800\n",
      "66/66 [==============================] - 1s 23ms/step - loss: 8.2654e-04 - val_loss: 0.0075\n",
      "Epoch 12/800\n",
      "66/66 [==============================] - 2s 23ms/step - loss: 8.2448e-04 - val_loss: 0.0075\n",
      "Epoch 13/800\n",
      "66/66 [==============================] - 2s 23ms/step - loss: 8.2280e-04 - val_loss: 0.0075\n",
      "Epoch 14/800\n",
      "66/66 [==============================] - 2s 23ms/step - loss: 8.2170e-04 - val_loss: 0.0075\n",
      "Epoch 15/800\n",
      "66/66 [==============================] - 2s 24ms/step - loss: 8.2005e-04 - val_loss: 0.0075\n",
      "Epoch 16/800\n",
      "64/66 [============================>.] - ETA: 0s - loss: 8.1891e-04Restoring model weights from the end of the best epoch.\n",
      "66/66 [==============================] - 2s 23ms/step - loss: 8.1813e-04 - val_loss: 0.0075\n",
      "Epoch 00016: early stopping\n"
     ]
    },
    {
     "data": {
      "text/plain": [
       "<tensorflow.python.keras.callbacks.History at 0x188b86730>"
      ]
     },
     "execution_count": 7,
     "metadata": {},
     "output_type": "execute_result"
    }
   ],
   "source": [
    "model.compile(loss='MAE',optimizer=tf.keras.optimizers.Adam(1e-3))\n",
    "model.fit(X_train,y_train.T, epochs=800, batch_size=batch_size, verbose=1,validation_data=(X_val,y_val.T), callbacks=cus.callbacks())\n",
    "model.compile(loss='MAE',optimizer=tf.keras.optimizers.Adam(1e-4))\n",
    "model.fit(X_train,y_train.T, epochs=800, batch_size=batch_size, verbose=1,validation_data=(X_val,y_val.T), callbacks=cus.callbacks())\n",
    "model.compile(loss='MAE',optimizer=tf.keras.optimizers.Adam(1e-5))\n",
    "model.fit(X_train,y_train.T, epochs=800, batch_size=batch_size, verbose=1,validation_data=(X_val,y_val.T), callbacks=cus.callbacks())\n",
    "model.compile(loss='MAE',optimizer=tf.keras.optimizers.Adam(1e-6))\n",
    "model.fit(X_train,y_train.T, epochs=800, batch_size=batch_size, verbose=1,validation_data=(X_val,y_val.T), callbacks=cus.callbacks())"
   ]
  },
  {
   "cell_type": "code",
   "execution_count": 8,
   "metadata": {},
   "outputs": [
    {
     "name": "stdout",
     "output_type": "stream",
     "text": [
      "0.00020991769\n"
     ]
    }
   ],
   "source": [
    "y_predicted = model.predict(X_test)\n",
    "metric = tf.keras.metrics.MeanSquaredError(name=\"mean_average_error\", dtype=None)\n",
    "metric.update_state(np.array(y_predicted*normConst),np.array(y_test.T*normConst))\n",
    "print(metric.result().numpy())  \n",
    "#print(y_predicted)"
   ]
  },
  {
   "cell_type": "code",
   "execution_count": 9,
   "metadata": {},
   "outputs": [],
   "source": [
    "from matplotlib import pyplot as plt\n",
    "import numpy as np\n"
   ]
  },
  {
   "cell_type": "code",
   "execution_count": 10,
   "metadata": {},
   "outputs": [
    {
     "name": "stdout",
     "output_type": "stream",
     "text": [
      "(9999,)\n",
      "(9999,)\n"
     ]
    }
   ],
   "source": [
    "print(y_predicted[:,0].shape)\n",
    "print(y_test.shape)"
   ]
  },
  {
   "cell_type": "code",
   "execution_count": 11,
   "metadata": {},
   "outputs": [
    {
     "name": "stdout",
     "output_type": "stream",
     "text": [
      "(9999,)\n"
     ]
    },
    {
     "data": {
      "image/png": "[encoded data removed]",
      "text/plain": [
       "<Figure size 720x504 with 1 Axes>"
      ]
     },
     "metadata": {
      "needs_background": "light"
     },
     "output_type": "display_data"
    }
   ],
   "source": [
    "# Creating dataset\n",
    "a = (y_predicted[:,0]-y_test)\n",
    "print(a.shape)\n",
    "# Creating histogram\n",
    "fig, ax = plt.subplots(figsize =(10, 7))\n",
    "ax.hist(a,bins=500,label=\"BOL\",color='g')\n",
    "plt.xlabel(\"$Δk_{\\infty}$\", size=14)\n",
    "plt.ylabel(\"Count\", size=14)\n",
    "plt.title(\"GODIVA $Δk_{\\infty}$, high bias serialization\")\n",
    "#plt.legend(loc='upper right')\n",
    "plt.xlim([-0.5,0.5])\n",
    "plt.ylim([0,1000])\n",
    "\n",
    "plt.savefig(\"../All_Results/GODIVA/GODIVA_deltaK_eqleth12.png\",bbox_inches =\"tight\",\n",
    "            pad_inches = 1,\n",
    "            transparent = False,\n",
    "            facecolor =\"w\",\n",
    "            edgecolor ='w',\n",
    "            orientation ='landscape')\n",
    "# Show plot\n",
    "plt.show()\n"
   ]
  },
  {
   "cell_type": "code",
   "execution_count": 12,
   "metadata": {},
   "outputs": [
    {
     "name": "stdout",
     "output_type": "stream",
     "text": [
      "0.06737911895538316\n",
      "0.01440077788766054\n",
      "1.0796179340080996\n",
      "1.0780256\n",
      "9999\n",
      "9999\n",
      "9999\n",
      "[[1.0710818]\n",
      " [1.0409943]\n",
      " [1.0792836]\n",
      " ...\n",
      " [1.0507499]\n",
      " [1.0440333]\n",
      " [1.0840304]]\n"
     ]
    }
   ],
   "source": [
    "print(np.std(y_test.T))\n",
    "print(np.std(a))\n",
    "print(np.mean(y_test.T))\n",
    "print(np.mean(y_predicted))\n",
    "print(len(y_test))\n",
    "print(len(y_predicted))\n",
    "print(len(a))\n",
    "print(y_predicted)"
   ]
  },
  {
   "cell_type": "code",
   "execution_count": 13,
   "metadata": {},
   "outputs": [
    {
     "data": {
      "image/png": "[encoded data removed]",
      "text/plain": [
       "<Figure size 720x504 with 1 Axes>"
      ]
     },
     "metadata": {
      "needs_background": "light"
     },
     "output_type": "display_data"
    }
   ],
   "source": [
    "import matplotlib.pyplot as plt\n",
    "import numpy as np\n",
    "from matplotlib import colors\n",
    "from matplotlib.ticker import PercentFormatter\n",
    " \n",
    "\n",
    "n_bins = 500\n",
    " \n",
    "\n",
    "# Creating histogram\n",
    "fig, axs = plt.subplots(figsize =(10, 7))\n",
    " \n",
    "axs.hist(y_test.T, bins = n_bins,label=\"k-eigenvalues (ground truth))\")\n",
    "axs.hist(y_predicted, bins = n_bins,label=\"k-eigenvalues predicted\")\n",
    "\n",
    "\n",
    "plt.xlabel(\"$k_{\\infty}$\", size=14)\n",
    "plt.ylabel(\"Count\", size=14)\n",
    "plt.legend(loc='upper right')\n",
    "\n",
    "plt.title(\"GODIVA $k_{\\infty}$, high bias serialization \")\n",
    "plt.savefig(\"../All_Results/GODIVA/kinfDist_eqleth_12.png\",bbox_inches =\"tight\",\n",
    "            pad_inches = 1,\n",
    "            transparent = False,\n",
    "            facecolor =\"w\",\n",
    "            edgecolor ='w',\n",
    "            orientation ='landscape')\n",
    "\n",
    "plt.show()\n",
    "# Show plot\n",
    "\n"
   ]
  },
  {
   "cell_type": "code",
   "execution_count": 14,
   "metadata": {},
   "outputs": [
    {
     "data": {
      "text/plain": [
       "0.540174245834351"
      ]
     },
     "execution_count": 14,
     "metadata": {},
     "output_type": "execute_result"
    }
   ],
   "source": [
    "np.max(y_test*normConst)-np.min(y_test*normConst)"
   ]
  },
  {
   "cell_type": "code",
   "execution_count": 15,
   "metadata": {},
   "outputs": [
    {
     "data": {
      "text/plain": [
       "1.02492344379425"
      ]
     },
     "execution_count": 15,
     "metadata": {},
     "output_type": "execute_result"
    }
   ],
   "source": [
    "np.min(y_test*normConst)"
   ]
  },
  {
   "cell_type": "code",
   "execution_count": 16,
   "metadata": {},
   "outputs": [
    {
     "data": {
      "text/plain": [
       "1.565097689628601"
      ]
     },
     "execution_count": 16,
     "metadata": {},
     "output_type": "execute_result"
    }
   ],
   "source": [
    "np.max(y_test*normConst)"
   ]
  },
  {
   "cell_type": "code",
   "execution_count": 17,
   "metadata": {},
   "outputs": [
    {
     "data": {
      "text/plain": [
       "3279"
      ]
     },
     "execution_count": 17,
     "metadata": {},
     "output_type": "execute_result"
    }
   ],
   "source": [
    "np.sum(np.logical_and(kinf > 1.03146,kinf < 1.03546))\n"
   ]
  },
  {
   "cell_type": "code",
   "execution_count": 18,
   "metadata": {},
   "outputs": [
    {
     "data": {
      "text/plain": [
       "(50000,)"
      ]
     },
     "execution_count": 18,
     "metadata": {},
     "output_type": "execute_result"
    }
   ],
   "source": [
    "np.shape(kinf)"
   ]
  },
  {
   "cell_type": "code",
   "execution_count": 19,
   "metadata": {},
   "outputs": [
    {
     "data": {
      "text/plain": [
       "1.0780256"
      ]
     },
     "execution_count": 19,
     "metadata": {},
     "output_type": "execute_result"
    }
   ],
   "source": [
    "np.mean(y_predicted)"
   ]
  },
  {
   "cell_type": "code",
   "execution_count": 20,
   "metadata": {},
   "outputs": [
    {
     "data": {
      "text/plain": [
       "1.05515"
      ]
     },
     "execution_count": 20,
     "metadata": {},
     "output_type": "execute_result"
    }
   ],
   "source": [
    "np.median(y_predicted)"
   ]
  },
  {
   "cell_type": "code",
   "execution_count": 21,
   "metadata": {},
   "outputs": [
    {
     "data": {
      "text/plain": [
       "1.5231909"
      ]
     },
     "execution_count": 21,
     "metadata": {},
     "output_type": "execute_result"
    }
   ],
   "source": [
    "np.max(y_predicted)"
   ]
  },
  {
   "cell_type": "code",
   "execution_count": null,
   "metadata": {},
   "outputs": [],
   "source": []
  },
  {
   "cell_type": "code",
   "execution_count": null,
   "metadata": {},
   "outputs": [],
   "source": []
  },
  {
   "cell_type": "code",
   "execution_count": null,
   "metadata": {},
   "outputs": [],
   "source": []
  }
 ],
 "metadata": {
  "interpreter": {
   "hash": "16c19f704522b294860ea2fcfcbccb05047b74a4c0e7a99ceb11e0c992f8aef7"
  },
  "kernelspec": {
   "display_name": "Python 3.9.5 ('tensorflow-groupstruct')",
   "language": "python",
   "name": "python3"
  },
  "language_info": {
   "codemirror_mode": {
    "name": "ipython",
    "version": 3
   },
   "file_extension": ".py",
   "mimetype": "text/x-python",
   "name": "python",
   "nbconvert_exporter": "python",
   "pygments_lexer": "ipython3",
   "version": "3.9.5"
  }
 },
 "nbformat": 4,
 "nbformat_minor": 4
}
