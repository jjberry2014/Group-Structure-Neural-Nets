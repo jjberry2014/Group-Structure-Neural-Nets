{
 "cells": [
  {
   "cell_type": "code",
   "execution_count": 10,
   "metadata": {},
   "outputs": [],
   "source": [
    "import sys\n",
    "\n",
    "sys.path.insert(0, '/Volumes/data/LosAlamosSummer')\n",
    "sys.path.insert(0, '/Volumes/data/LosAlamosSummer/DrOsborneCode')\n",
    "\n",
    "import Utilities as ut\n",
    "import importlib\n",
    "import model as mod\n",
    "import predict_with_uncertainty as pu\n",
    "import custom as cus\n",
    "importlib.reload(ut)\n",
    "importlib.reload(mod)\n",
    "importlib.reload(pu)\n",
    "importlib.reload(cus)\n",
    "import scipy\n",
    "import tensorflow as tf\n",
    "import numpy as np\n",
    "from tensorflow.keras import layers"
   ]
  },
  {
   "cell_type": "code",
   "execution_count": 2,
   "metadata": {},
   "outputs": [
    {
     "name": "stdout",
     "output_type": "stream",
     "text": [
      "            Sphere           LWR           SFR\n",
      "0     2.615712e+02  1.000000e-03  1.000000e-03\n",
      "1     5.737464e+02  6.865624e-03  6.865624e-03\n",
      "2     8.888122e+02  9.160728e-03  9.160728e-03\n",
      "3     1.195336e+03  1.107134e-02  1.107134e-02\n",
      "4     1.481597e+03  1.273122e-02  1.273122e-02\n",
      "...            ...           ...           ...\n",
      "997   4.267269e+06  7.188363e+06  7.188363e+06\n",
      "998   4.568146e+06  7.556836e+06  7.556836e+06\n",
      "999   4.976225e+06  8.021766e+06  8.021766e+06\n",
      "1000  5.607251e+06  8.701618e+06  8.701618e+06\n",
      "1001  7.020693e+06           NaN           NaN\n",
      "\n",
      "[1002 rows x 3 columns]\n",
      "0       1.000000e-03\n",
      "1       6.865624e-03\n",
      "2       9.160728e-03\n",
      "3       1.107134e-02\n",
      "4       1.273122e-02\n",
      "            ...     \n",
      "997     7.188363e+06\n",
      "998     7.556836e+06\n",
      "999     8.021766e+06\n",
      "1000    8.701618e+06\n",
      "1001             NaN\n",
      "Name: LWR, Length: 1002, dtype: float64\n",
      "[1.00000000e-03 6.86562376e-03 9.16072825e-03 ... 7.55683605e+06\n",
      " 8.02176620e+06 8.70161772e+06]\n"
     ]
    }
   ],
   "source": [
    "import pandas as pd\n",
    "\n",
    "df = pd.read_excel ('/Volumes/data/LosAlamosSummer/Serializationstructures.xlsx')\n",
    "print (df)\n",
    "print(df.LWR)\n",
    "SS=np.array(df.LWR[:-1])\n",
    "print(SS)"
   ]
  },
  {
   "cell_type": "code",
   "execution_count": 3,
   "metadata": {},
   "outputs": [
    {
     "name": "stdout",
     "output_type": "stream",
     "text": [
      "Loading In Data\n",
      "Finished Loading Data\n"
     ]
    }
   ],
   "source": [
    "#datapath = '/Users/jessiejo/data/VBUDS/GroupStructurePaper/NeuralNetworks/All_Libraries/NewDataSetFull1.mat'\n",
    "datapath='/Volumes/data/LosAlamosSummer/LWR/DATA/LWR_data_7.mat'\n",
    "print('Loading In Data')\n",
    "kinfBOL,kinfMOL,kinfEOL,GS=Utilities.LoadData(datapath,1)\n",
    "#MakeGroupDensity(X, nDecades)\n",
    "Nfeatures = 1000;\n",
    "allData= Utilities.ProcessData(datapath, 1,1000,1,SS,1)\n",
    "# allData: (100,000x1,000) y_direct: (100,000x3)\n",
    "print('Finished Loading Data')"
   ]
  },
  {
   "cell_type": "code",
   "execution_count": 4,
   "metadata": {},
   "outputs": [
    {
     "name": "stdout",
     "output_type": "stream",
     "text": [
      "(49999,)\n",
      "49999\n",
      "(49999, 3)\n"
     ]
    }
   ],
   "source": [
    "#!pip install -q -U keras-tuner\n",
    "print(kinfBOL.shape)\n",
    "print(len(kinfBOL))\n",
    "kinf=np.array(np.zeros((len(kinfBOL),3)))\n",
    "kinf[:,0]=kinfBOL\n",
    "kinf[:,1]=kinfMOL\n",
    "kinf[:,2]=kinfEOL#np.concatenate((kinfBOL,kinfMOL,kinfEOL),axis=0)\n",
    "print(kinf.shape)"
   ]
  },
  {
   "cell_type": "code",
   "execution_count": 5,
   "metadata": {},
   "outputs": [
    {
     "name": "stdout",
     "output_type": "stream",
     "text": [
      "(3, 9999)\n",
      "(3, 4999)\n",
      "(49999, 3)\n",
      "(3, 34999)\n"
     ]
    }
   ],
   "source": [
    "Nsamples,Ndecades = allData.shape\n",
    "vldF=.1\n",
    "testF=.2\n",
    "normConst=1#np.linalg.norm(kinf)\n",
    "y_norm=np.array(kinf/normConst)\n",
    "\n",
    "X, X_test, y, y_test, vldF_corr = Utilities.makeFractions(Nsamples, vldF, testF, allData, y_norm, 1)\n",
    "\n",
    "\n",
    "NtrainingSamples = int(Nsamples*(1 - testF))\n",
    "tranValSplit=int(NtrainingSamples*(1-vldF_corr))\n",
    "X_train=X[:tranValSplit,:]\n",
    "y_train=y[:,:tranValSplit]\n",
    "X_val=X[tranValSplit+1:,:]\n",
    "y_val=y[:,tranValSplit+1:]\n",
    "print(y_test.shape)\n",
    "print(y_val.shape)\n",
    "print(y_norm.shape)\n",
    "print(y_train.shape)"
   ]
  },
  {
   "cell_type": "code",
   "execution_count": 32,
   "metadata": {},
   "outputs": [
    {
     "name": "stdout",
     "output_type": "stream",
     "text": [
      "Model: \"sequential_3\"\n",
      "_________________________________________________________________\n",
      "Layer (type)                 Output Shape              Param #   \n",
      "=================================================================\n",
      "hidden_1 (Dense)             (None, 764)               764764    \n",
      "_________________________________________________________________\n",
      "hidden_2 (Dense)             (None, 754)               576810    \n",
      "_________________________________________________________________\n",
      "output (Dense)               (None, 3)                 2265      \n",
      "=================================================================\n",
      "Total params: 1,343,839\n",
      "Trainable params: 1,343,839\n",
      "Non-trainable params: 0\n",
      "_________________________________________________________________\n"
     ]
    }
   ],
   "source": [
    "batch_size=267\n",
    "model = tf.keras.Sequential([\n",
    "    layers.Dense(764, activation='relu', name='hidden_1', input_dim=1000),\n",
    "    layers.Dense(754, activation='relu',  name='hidden_2'),\n",
    "    layers.Dense(3, activation='linear',name='output')])\n",
    "model.compile(loss=\"mean_squared_logarithmic_error\",optimizer=tf.keras.optimizers.Adam(6.108900863274014e-05),metrics=\"mean_squared_logarithmic_error\")\n",
    "model.build()\n",
    "model.summary()"
   ]
  },
  {
   "cell_type": "code",
   "execution_count": 33,
   "metadata": {},
   "outputs": [
    {
     "name": "stdout",
     "output_type": "stream",
     "text": [
      "Epoch 1/100\n",
      "132/132 [==============================] - 2s 13ms/step - loss: 0.0160 - val_loss: 0.0074\n",
      "Epoch 2/100\n",
      "132/132 [==============================] - 2s 13ms/step - loss: 0.0044 - val_loss: 0.0022\n",
      "Epoch 3/100\n",
      "132/132 [==============================] - 2s 13ms/step - loss: 0.0017 - val_loss: 0.0016\n",
      "Epoch 4/100\n",
      "132/132 [==============================] - 2s 13ms/step - loss: 0.0012 - val_loss: 0.0012\n",
      "Epoch 5/100\n",
      "132/132 [==============================] - 2s 12ms/step - loss: 9.5366e-04 - val_loss: 0.0014\n",
      "Epoch 6/100\n",
      "132/132 [==============================] - 2s 12ms/step - loss: 8.1726e-04 - val_loss: 9.8923e-04\n",
      "Epoch 7/100\n",
      "132/132 [==============================] - 1s 11ms/step - loss: 7.2498e-04 - val_loss: 0.0011\n",
      "Epoch 8/100\n",
      "132/132 [==============================] - 2s 12ms/step - loss: 6.4621e-04 - val_loss: 0.0012\n",
      "Epoch 9/100\n",
      "132/132 [==============================] - 2s 12ms/step - loss: 5.8040e-04 - val_loss: 9.1772e-04\n",
      "Epoch 10/100\n",
      "132/132 [==============================] - 2s 12ms/step - loss: 5.3619e-04 - val_loss: 0.0010\n",
      "Epoch 11/100\n",
      "132/132 [==============================] - 2s 12ms/step - loss: 4.8367e-04 - val_loss: 9.3963e-04\n",
      "Epoch 12/100\n",
      "132/132 [==============================] - 2s 12ms/step - loss: 4.2467e-04 - val_loss: 0.0010\n",
      "Epoch 13/100\n",
      "132/132 [==============================] - 2s 12ms/step - loss: 3.9859e-04 - val_loss: 9.8198e-04\n",
      "Epoch 14/100\n",
      "132/132 [==============================] - 2s 12ms/step - loss: 3.7207e-04 - val_loss: 0.0010\n",
      "Epoch 15/100\n",
      "132/132 [==============================] - 2s 12ms/step - loss: 3.4653e-04 - val_loss: 0.0012\n",
      "Epoch 16/100\n",
      "132/132 [==============================] - 2s 12ms/step - loss: 3.0593e-04 - val_loss: 0.0011\n",
      "Epoch 17/100\n",
      "132/132 [==============================] - 2s 12ms/step - loss: 3.0235e-04 - val_loss: 0.0010\n",
      "Epoch 18/100\n",
      "132/132 [==============================] - 2s 12ms/step - loss: 2.6428e-04 - val_loss: 0.0010\n",
      "Epoch 19/100\n",
      "132/132 [==============================] - 2s 12ms/step - loss: 2.1327e-04 - val_loss: 0.0011\n",
      "Epoch 20/100\n",
      "132/132 [==============================] - 2s 12ms/step - loss: 1.9424e-04 - val_loss: 0.0011\n",
      "Epoch 21/100\n",
      "132/132 [==============================] - 2s 12ms/step - loss: 1.7417e-04 - val_loss: 0.0010\n",
      "Epoch 22/100\n",
      "132/132 [==============================] - 2s 12ms/step - loss: 1.7519e-04 - val_loss: 0.0010\n",
      "Epoch 23/100\n",
      "132/132 [==============================] - 2s 12ms/step - loss: 1.6260e-04 - val_loss: 0.0011\n",
      "Epoch 24/100\n",
      "130/132 [============================>.] - ETA: 0s - loss: 1.5740e-04Restoring model weights from the end of the best epoch.\n",
      "132/132 [==============================] - 2s 12ms/step - loss: 1.5761e-04 - val_loss: 0.0010\n",
      "Epoch 00024: early stopping\n",
      "Epoch 1/100\n",
      "132/132 [==============================] - 2s 13ms/step - loss: 4.3826e-04 - val_loss: 8.8814e-04\n",
      "Epoch 2/100\n",
      "132/132 [==============================] - 2s 12ms/step - loss: 4.0772e-04 - val_loss: 9.0388e-04\n",
      "Epoch 3/100\n",
      "132/132 [==============================] - 2s 12ms/step - loss: 3.8271e-04 - val_loss: 9.8195e-04\n",
      "Epoch 4/100\n",
      "132/132 [==============================] - 2s 12ms/step - loss: 3.7025e-04 - val_loss: 9.2044e-04\n",
      "Epoch 5/100\n",
      "132/132 [==============================] - 2s 12ms/step - loss: 3.4389e-04 - val_loss: 9.4097e-04\n",
      "Epoch 6/100\n",
      "132/132 [==============================] - 2s 12ms/step - loss: 3.2991e-04 - val_loss: 9.5933e-04\n",
      "Epoch 7/100\n",
      "132/132 [==============================] - 2s 12ms/step - loss: 3.1126e-04 - val_loss: 9.6040e-04\n",
      "Epoch 8/100\n",
      "132/132 [==============================] - 2s 12ms/step - loss: 2.9067e-04 - val_loss: 9.7628e-04\n",
      "Epoch 9/100\n",
      "132/132 [==============================] - 2s 12ms/step - loss: 2.7708e-04 - val_loss: 9.9614e-04\n",
      "Epoch 10/100\n",
      "132/132 [==============================] - 2s 12ms/step - loss: 2.5841e-04 - val_loss: 9.8749e-04\n",
      "Epoch 11/100\n",
      "132/132 [==============================] - 2s 12ms/step - loss: 2.4581e-04 - val_loss: 0.0010\n",
      "Epoch 12/100\n",
      "132/132 [==============================] - 2s 12ms/step - loss: 2.2831e-04 - val_loss: 0.0010\n",
      "Epoch 13/100\n",
      "132/132 [==============================] - 2s 12ms/step - loss: 2.1429e-04 - val_loss: 0.0010\n",
      "Epoch 14/100\n",
      "132/132 [==============================] - 2s 12ms/step - loss: 2.0018e-04 - val_loss: 0.0010\n",
      "Epoch 15/100\n",
      "132/132 [==============================] - 2s 13ms/step - loss: 1.8739e-04 - val_loss: 0.0011\n",
      "Epoch 16/100\n",
      "130/132 [============================>.] - ETA: 0s - loss: 1.7408e-04Restoring model weights from the end of the best epoch.\n",
      "132/132 [==============================] - 2s 12ms/step - loss: 1.7371e-04 - val_loss: 0.0010\n",
      "Epoch 00016: early stopping\n",
      "Epoch 1/100\n",
      "132/132 [==============================] - 2s 13ms/step - loss: 3.8964e-04 - val_loss: 8.8152e-04\n",
      "Epoch 2/100\n",
      "132/132 [==============================] - 2s 12ms/step - loss: 3.8362e-04 - val_loss: 8.8302e-04\n",
      "Epoch 3/100\n",
      "132/132 [==============================] - 2s 13ms/step - loss: 3.8035e-04 - val_loss: 8.8743e-04\n",
      "Epoch 4/100\n",
      "132/132 [==============================] - 2s 12ms/step - loss: 3.7729e-04 - val_loss: 8.8717e-04\n",
      "Epoch 5/100\n",
      "132/132 [==============================] - 2s 12ms/step - loss: 3.7480e-04 - val_loss: 8.9065e-04\n",
      "Epoch 6/100\n",
      "132/132 [==============================] - 2s 12ms/step - loss: 3.7122e-04 - val_loss: 8.9098e-04\n",
      "Epoch 7/100\n",
      "132/132 [==============================] - 2s 13ms/step - loss: 3.6906e-04 - val_loss: 8.9195e-04\n",
      "Epoch 8/100\n",
      "132/132 [==============================] - 2s 12ms/step - loss: 3.6600e-04 - val_loss: 8.9470e-04\n",
      "Epoch 9/100\n",
      "132/132 [==============================] - 2s 13ms/step - loss: 3.6347e-04 - val_loss: 8.9641e-04\n",
      "Epoch 10/100\n",
      "132/132 [==============================] - ETA: 0s - loss: 3.6100e-0 - 2s 13ms/step - loss: 3.6100e-04 - val_loss: 8.9768e-04\n",
      "Epoch 11/100\n",
      "132/132 [==============================] - 2s 12ms/step - loss: 3.5812e-04 - val_loss: 9.0031e-04\n",
      "Epoch 12/100\n",
      "132/132 [==============================] - 2s 12ms/step - loss: 3.5569e-04 - val_loss: 9.0103e-04\n",
      "Epoch 13/100\n",
      "132/132 [==============================] - 2s 13ms/step - loss: 3.5339e-04 - val_loss: 9.0287e-04\n",
      "Epoch 14/100\n",
      "132/132 [==============================] - 2s 13ms/step - loss: 3.5095e-04 - val_loss: 9.0346e-04\n",
      "Epoch 15/100\n",
      "132/132 [==============================] - 2s 13ms/step - loss: 3.4793e-04 - val_loss: 9.0682e-04\n",
      "Epoch 16/100\n",
      "130/132 [============================>.] - ETA: 0s - loss: 3.4399e-04Restoring model weights from the end of the best epoch.\n",
      "132/132 [==============================] - 2s 12ms/step - loss: 3.4609e-04 - val_loss: 9.0780e-04\n",
      "Epoch 00016: early stopping\n",
      "Epoch 1/100\n",
      "132/132 [==============================] - 2s 13ms/step - loss: 3.8167e-04 - val_loss: 8.8131e-04\n",
      "Epoch 2/100\n",
      "132/132 [==============================] - 2s 12ms/step - loss: 3.8107e-04 - val_loss: 8.8153e-04\n",
      "Epoch 3/100\n",
      "132/132 [==============================] - 2s 13ms/step - loss: 3.8065e-04 - val_loss: 8.8151e-04\n",
      "Epoch 4/100\n",
      "132/132 [==============================] - 2s 13ms/step - loss: 3.8032e-04 - val_loss: 8.8175e-04\n",
      "Epoch 5/100\n",
      "132/132 [==============================] - 2s 12ms/step - loss: 3.7992e-04 - val_loss: 8.8172e-04\n",
      "Epoch 6/100\n",
      "132/132 [==============================] - 2s 13ms/step - loss: 3.7950e-04 - val_loss: 8.8193e-04\n",
      "Epoch 7/100\n",
      "132/132 [==============================] - 2s 13ms/step - loss: 3.7907e-04 - val_loss: 8.8206e-04\n",
      "Epoch 8/100\n",
      "132/132 [==============================] - 2s 13ms/step - loss: 3.7873e-04 - val_loss: 8.8260e-04\n",
      "Epoch 9/100\n",
      "132/132 [==============================] - 2s 13ms/step - loss: 3.7838e-04 - val_loss: 8.8247e-04\n",
      "Epoch 10/100\n",
      "132/132 [==============================] - 2s 12ms/step - loss: 3.7801e-04 - val_loss: 8.8276e-04\n",
      "Epoch 11/100\n",
      "132/132 [==============================] - 2s 12ms/step - loss: 3.7764e-04 - val_loss: 8.8281e-04\n",
      "Epoch 12/100\n",
      "132/132 [==============================] - 2s 13ms/step - loss: 3.7736e-04 - val_loss: 8.8312e-04\n",
      "Epoch 13/100\n",
      "132/132 [==============================] - 2s 13ms/step - loss: 3.7696e-04 - val_loss: 8.8347e-04\n",
      "Epoch 14/100\n",
      "132/132 [==============================] - 2s 12ms/step - loss: 3.7662e-04 - val_loss: 8.8396e-04\n",
      "Epoch 15/100\n",
      "132/132 [==============================] - 2s 12ms/step - loss: 3.7626e-04 - val_loss: 8.8348e-04\n"
     ]
    },
    {
     "name": "stdout",
     "output_type": "stream",
     "text": [
      "Epoch 16/100\n",
      "131/132 [============================>.] - ETA: 0s - loss: 3.7594e-04Restoring model weights from the end of the best epoch.\n",
      "132/132 [==============================] - 2s 12ms/step - loss: 3.7597e-04 - val_loss: 8.8384e-04\n",
      "Epoch 00016: early stopping\n"
     ]
    },
    {
     "data": {
      "text/plain": [
       "<tensorflow.python.keras.callbacks.History at 0x15dc634c0>"
      ]
     },
     "execution_count": 33,
     "metadata": {},
     "output_type": "execute_result"
    }
   ],
   "source": [
    "model.compile(loss='mean_squared_logarithmic_error',optimizer=tf.keras.optimizers.Adam(1e-3))\n",
    "model.fit(X_train,y_train.T, epochs=100, batch_size=batch_size, verbose=1,validation_data=(X_val,y_val.T), callbacks=cus.callbacks())\n",
    "model.compile(loss='mean_squared_logarithmic_error',optimizer=tf.keras.optimizers.Adam(1e-4))\n",
    "model.fit(X_train,y_train.T, epochs=100, batch_size=batch_size, verbose=1,validation_data=(X_val,y_val.T), callbacks=cus.callbacks())\n",
    "model.compile(loss='mean_squared_logarithmic_error',optimizer=tf.keras.optimizers.Adam(1e-5))\n",
    "model.fit(X_train,y_train.T, epochs=100, batch_size=batch_size, verbose=1,validation_data=(X_val,y_val.T), callbacks=cus.callbacks())\n",
    "model.compile(loss='mean_squared_logarithmic_error',optimizer=tf.keras.optimizers.Adam(1e-6))\n",
    "model.fit(X_train,y_train.T, epochs=100, batch_size=batch_size, verbose=1,validation_data=(X_val,y_val.T), callbacks=cus.callbacks())"
   ]
  },
  {
   "cell_type": "code",
   "execution_count": 34,
   "metadata": {},
   "outputs": [
    {
     "data": {
      "text/plain": [
       "1.0409348"
      ]
     },
     "execution_count": 34,
     "metadata": {},
     "output_type": "execute_result"
    }
   ],
   "source": [
    "y_predicted = keff_model.predict(X_test)\n",
    "metric = tf.keras.metrics.MeanSquaredError(name=\"mean_average_error\", dtype=None)\n",
    "metric.update_state(np.array(y_predicted*normConst),np.array(y_test.T*normConst))\n",
    "metric.result().numpy()"
   ]
  },
  {
   "cell_type": "code",
   "execution_count": 35,
   "metadata": {},
   "outputs": [],
   "source": [
    "from matplotlib import pyplot as plt\n",
    "import numpy as np\n"
   ]
  },
  {
   "cell_type": "code",
   "execution_count": null,
   "metadata": {},
   "outputs": [],
   "source": []
  },
  {
   "cell_type": "code",
   "execution_count": 36,
   "metadata": {},
   "outputs": [
    {
     "name": "stdout",
     "output_type": "stream",
     "text": [
      "(9999, 3)\n"
     ]
    },
    {
     "data": {
      "image/png": "[encoded data removed]",
      "text/plain": [
       "<Figure size 720x504 with 1 Axes>"
      ]
     },
     "metadata": {
      "needs_background": "light"
     },
     "output_type": "display_data"
    }
   ],
   "source": [
    "# Creating dataset\n",
    "a = (y_predicted-y_test.T)\n",
    "print(a.shape)\n",
    "# Creating histogram\n",
    "fig, ax = plt.subplots(figsize =(10, 7))\n",
    "ax.hist(a[:,2],bins=70,alpha=0.75,label=\"EOL\",color='r')\n",
    "ax.hist(a[:,1],bins=70,alpha=0.25,label=\"MOL\",color='b')\n",
    "ax.hist(a[:,0],bins=70,alpha=0.25,label=\"BOL\",color='g')\n",
    "plt.xlabel(\"$Δk_{\\infty}$\", size=14)\n",
    "plt.ylabel(\"Count\", size=14)\n",
    "plt.title(\"LWR $Δk_{\\infty}$, flux based serialization\")\n",
    "plt.legend(loc='upper right')\n",
    "plt.savefig(\"LWR_completeData_fluxShaped_wide_drO.png\")\n",
    "# Show plot\n",
    "plt.show()\n"
   ]
  },
  {
   "cell_type": "code",
   "execution_count": null,
   "metadata": {},
   "outputs": [],
   "source": []
  },
  {
   "cell_type": "code",
   "execution_count": 37,
   "metadata": {},
   "outputs": [
    {
     "data": {
      "image/png": "[encoded data removed]",
      "text/plain": [
       "<Figure size 720x504 with 1 Axes>"
      ]
     },
     "metadata": {
      "needs_background": "light"
     },
     "output_type": "display_data"
    }
   ],
   "source": [
    "import matplotlib.pyplot as plt\n",
    "import numpy as np\n",
    "from matplotlib import colors\n",
    "from matplotlib.ticker import PercentFormatter\n",
    " \n",
    "\n",
    "n_bins = 500\n",
    " \n",
    "\n",
    "# Creating histogram\n",
    "fig, axs = plt.subplots(figsize =(10, 7))\n",
    " \n",
    "axs.hist(y_test.T[:,0], bins = n_bins,label=\"BOL actual\")\n",
    "axs.hist(y_predicted[:,0], bins = n_bins,label=\"BOL predicted\")\n",
    "\n",
    "\n",
    "plt.xlabel(\"$k_{\\infty}$\", size=14)\n",
    "plt.ylabel(\"Count\", size=14)\n",
    "plt.legend(loc='upper right')\n",
    "\n",
    "plt.title(\"LWR $k_{\\infty}$, shaped serialization\")\n",
    "plt.savefig(\"kinfPredDist_fluxShaped_wide_drO.png\",bbox_inches =\"tight\",\n",
    "            pad_inches = 1,\n",
    "            transparent = False,\n",
    "            facecolor =\"w\",\n",
    "            edgecolor ='w',\n",
    "            orientation ='landscape')\n",
    "\n",
    "plt.show()\n",
    "# Show plot\n",
    "\n"
   ]
  },
  {
   "cell_type": "code",
   "execution_count": 38,
   "metadata": {},
   "outputs": [
    {
     "name": "stdout",
     "output_type": "stream",
     "text": [
      "0.18918583694629387\n",
      "0.21835144690249306\n",
      "0.251845114070759\n"
     ]
    }
   ],
   "source": [
    "\n",
    "print(np.std(a[:,2]))\n",
    "print(np.std(a[:,1]))\n",
    "print(np.std(a[:,0]))"
   ]
  },
  {
   "cell_type": "code",
   "execution_count": null,
   "metadata": {},
   "outputs": [],
   "source": []
  },
  {
   "cell_type": "code",
   "execution_count": null,
   "metadata": {},
   "outputs": [],
   "source": []
  }
 ],
 "metadata": {
  "kernelspec": {
   "display_name": "Python 3",
   "language": "python",
   "name": "python3"
  },
  "language_info": {
   "codemirror_mode": {
    "name": "ipython",
    "version": 3
   },
   "file_extension": ".py",
   "mimetype": "text/x-python",
   "name": "python",
   "nbconvert_exporter": "python",
   "pygments_lexer": "ipython3",
   "version": "3.8.5"
  }
 },
 "nbformat": 4,
 "nbformat_minor": 4
}
