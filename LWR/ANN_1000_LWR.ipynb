{
 "cells": [
  {
   "cell_type": "code",
   "execution_count": 11,
   "metadata": {},
   "outputs": [],
   "source": [
    "import sys\n",
    "\n",
    "sys.path.insert(0, '/Volumes/data/LosAlamosSummer')\n",
    "sys.path.insert(0, '/Volumes/data/LosAlamosSummer/DrOsborneCode')\n",
    "\n",
    "import Utilities as ut\n",
    "import importlib\n",
    "import model as mod\n",
    "import predict_with_uncertainty as pu\n",
    "import custom as cus\n",
    "importlib.reload(ut)\n",
    "importlib.reload(mod)\n",
    "importlib.reload(pu)\n",
    "importlib.reload(cus)\n",
    "import scipy\n",
    "import tensorflow as tf\n",
    "import numpy as np\n",
    "from tensorflow.keras import layers"
   ]
  },
  {
   "cell_type": "code",
   "execution_count": 5,
   "metadata": {},
   "outputs": [
    {
     "name": "stdout",
     "output_type": "stream",
     "text": [
      "Loading In Data\n",
      "Finished Loading Data\n"
     ]
    }
   ],
   "source": [
    "#datapath = '/Users/jessiejo/data/VBUDS/GroupStructurePaper/NeuralNetworks/All_Libraries/NewDataSetFull1.mat'\n",
    "datapath='/Volumes/data/LosAlamosSummer/LWR/DATA/LWR_data_7.mat'\n",
    "print('Loading In Data')\n",
    "kinfBOL,kinfMOL,kinfEOL,GS=ut.LoadData(datapath,1)\n",
    "#MakeGroupDensity(X, nDecades)\n",
    "Nfeatures = 1000;\n",
    "allData= ut.ProcessData(datapath, 1,1000,0,0,1)\n",
    "# allData: (100,000x1,000) y_direct: (100,000x3)\n",
    "print('Finished Loading Data')"
   ]
  },
  {
   "cell_type": "markdown",
   "metadata": {},
   "source": [
    "\n",
    "Load Data loads raw data from the .mat file\n",
    "Inputs\n",
    "datapath: Path to .mat file containing the data [string]\n",
    "BU: whether the data contains burnup; 1=burnup, 0=no burnup [bool]\n",
    "\n",
    "ProcessData is the serialization maker \n",
    "Inputs\n",
    "datapath: Path to .mat file containing the data [string]\n",
    "Percent of data to be used: in most cases full data set will be used but good for analysis [double](0-1)\n",
    "ndecades: Number of decades wanted in equal lethargy serialization. Number is ignored if custom serialization inputted [int]\n",
    "mode: equal lethargy mode (0) or custom serialization mode (1) [boolean]\n",
    "input serial: a custom serialization regime (ignored if mode is not 1) [numpy array]\n",
    "BU: whether the data contains burnup; 1=burnup, 0=no burnup [bool]"
   ]
  },
  {
   "cell_type": "code",
   "execution_count": 7,
   "metadata": {},
   "outputs": [
    {
     "name": "stdout",
     "output_type": "stream",
     "text": [
      "(49999,)\n",
      "49999\n",
      "(49999, 3)\n",
      "0.25062617612169336\n"
     ]
    }
   ],
   "source": [
    "\n",
    "#!pip install -q -U keras-tuner\n",
    "print(kinfBOL.shape)\n",
    "print(len(kinfBOL))\n",
    "kinf=np.array(np.zeros((len(kinfBOL),3)))\n",
    "kinf[:,0]=kinfBOL\n",
    "kinf[:,1]=kinfMOL\n",
    "kinf[:,2]=kinfEOL#np.concatenate((kinfBOL,kinfMOL,kinfEOL),axis=0)\n",
    "print(kinf.shape)\n",
    "print(np.std(kinfBOL))"
   ]
  },
  {
   "cell_type": "code",
   "execution_count": 8,
   "metadata": {},
   "outputs": [
    {
     "name": "stdout",
     "output_type": "stream",
     "text": [
      "(3, 9999)\n",
      "(3, 4999)\n",
      "(49999, 3)\n",
      "(3, 34999)\n"
     ]
    }
   ],
   "source": [
    "Nsamples,Ndecades = allData.shape\n",
    "vldF=.1\n",
    "testF=.2\n",
    "normConst=1#np.linalg.norm(kinf)\n",
    "y_norm=np.array(kinf/normConst)\n",
    "\n",
    "X, X_test, y, y_test, vldF_corr = ut.makeFractions(Nsamples, vldF, testF, allData, y_norm, 1)\n",
    "\n",
    "\n",
    "NtrainingSamples = int(Nsamples*(1 - testF))\n",
    "tranValSplit=int(NtrainingSamples*(1-vldF_corr))\n",
    "X_train=X[:tranValSplit,:]\n",
    "y_train=y[:,:tranValSplit]\n",
    "X_val=X[tranValSplit+1:,:]\n",
    "y_val=y[:,tranValSplit+1:]\n",
    "print(y_test.shape)\n",
    "print(y_val.shape)\n",
    "print(y_norm.shape)\n",
    "print(y_train.shape)"
   ]
  },
  {
   "cell_type": "markdown",
   "metadata": {},
   "source": [
    "makeFractions splits the data into appropriatly sized sets\n",
    "Nsamples is the number of samples of the data set\n",
    "vldF is the validation fraction\n",
    "testF is the test fraction\n",
    "allData is the set of serialzed group structures\n",
    "y_norm is the kinfs that correspond to the serialized group structures (normalized or otherwise)\n",
    "BU (the last input) is a boolean determining whether the data contains burnup [Boolean] (used in the same manner as previous)"
   ]
  },
  {
   "cell_type": "code",
   "execution_count": 143,
   "metadata": {},
   "outputs": [
    {
     "name": "stdout",
     "output_type": "stream",
     "text": [
      "Model: \"sequential_8\"\n",
      "_________________________________________________________________\n",
      "Layer (type)                 Output Shape              Param #   \n",
      "=================================================================\n",
      "hidden_1 (Dense)             (None, 173)               173000    \n",
      "_________________________________________________________________\n",
      "hidden_2 (Dense)             (None, 460)               80040     \n",
      "_________________________________________________________________\n",
      "output (Dense)               (None, 3)                 1383      \n",
      "=================================================================\n",
      "Total params: 254,423\n",
      "Trainable params: 254,423\n",
      "Non-trainable params: 0\n",
      "_________________________________________________________________\n"
     ]
    }
   ],
   "source": [
    "batch_size=110;\n",
    "model = tf.keras.Sequential([\n",
    "    layers.Dense(173, activation='elu', name='hidden_1', input_dim=999),\n",
    "    layers.Dense(460, activation='elu',  name='hidden_2'),\n",
    "    layers.Dense(3, activation='linear',name='output')])\n",
    "model.compile(loss=\"mean_squared_logarithmic_error\",metrics=\"mean_squared_logarithmic_error\")\n",
    "model.build()\n",
    "model.summary()"
   ]
  },
  {
   "cell_type": "code",
   "execution_count": 157,
   "metadata": {},
   "outputs": [
    {
     "name": "stdout",
     "output_type": "stream",
     "text": [
      "Epoch 1/100\n",
      "319/319 [==============================] - 1s 3ms/step - loss: 0.0076 - val_loss: 0.0189\n",
      "Epoch 2/100\n",
      "319/319 [==============================] - 1s 2ms/step - loss: 0.0067 - val_loss: 0.0151\n",
      "Epoch 3/100\n",
      "319/319 [==============================] - 1s 2ms/step - loss: 0.0065 - val_loss: 0.0171\n",
      "Epoch 4/100\n",
      "319/319 [==============================] - 1s 2ms/step - loss: 0.0067 - val_loss: 0.0152\n",
      "Epoch 5/100\n",
      "319/319 [==============================] - 1s 2ms/step - loss: 0.0065 - val_loss: 0.0152\n",
      "Epoch 6/100\n",
      "319/319 [==============================] - 1s 2ms/step - loss: 0.0063 - val_loss: 0.0168\n",
      "Epoch 7/100\n",
      "319/319 [==============================] - 1s 2ms/step - loss: 0.0066 - val_loss: 0.0151\n",
      "Epoch 8/100\n",
      "319/319 [==============================] - 1s 2ms/step - loss: 0.0066 - val_loss: 0.0152\n",
      "Epoch 9/100\n",
      "319/319 [==============================] - 1s 2ms/step - loss: 0.0063 - val_loss: 0.0152\n",
      "Epoch 10/100\n",
      "319/319 [==============================] - 1s 2ms/step - loss: 0.0063 - val_loss: 0.0155\n",
      "Epoch 11/100\n",
      "319/319 [==============================] - 1s 2ms/step - loss: 0.0065 - val_loss: 0.0167\n",
      "Epoch 12/100\n",
      "319/319 [==============================] - 1s 2ms/step - loss: 0.0062 - val_loss: 0.0153\n",
      "Epoch 13/100\n",
      "319/319 [==============================] - 1s 2ms/step - loss: 0.0064 - val_loss: 0.0150\n",
      "Epoch 14/100\n",
      "319/319 [==============================] - 1s 2ms/step - loss: 0.0063 - val_loss: 0.0150\n",
      "Epoch 15/100\n",
      "319/319 [==============================] - 1s 2ms/step - loss: 0.0060 - val_loss: 0.0140\n",
      "Epoch 16/100\n",
      "319/319 [==============================] - 1s 2ms/step - loss: 0.0060 - val_loss: 0.0156\n",
      "Epoch 17/100\n",
      "319/319 [==============================] - 1s 2ms/step - loss: 0.0061 - val_loss: 0.0147\n",
      "Epoch 18/100\n",
      "319/319 [==============================] - 1s 2ms/step - loss: 0.0062 - val_loss: 0.0158\n",
      "Epoch 19/100\n",
      "319/319 [==============================] - 1s 2ms/step - loss: 0.0060 - val_loss: 0.0140\n",
      "Epoch 20/100\n",
      "319/319 [==============================] - 1s 2ms/step - loss: 0.0056 - val_loss: 0.0137\n",
      "Epoch 21/100\n",
      "319/319 [==============================] - 1s 2ms/step - loss: 0.0059 - val_loss: 0.0158\n",
      "Epoch 22/100\n",
      "319/319 [==============================] - 1s 2ms/step - loss: 0.0061 - val_loss: 0.0159\n",
      "Epoch 23/100\n",
      "319/319 [==============================] - 1s 2ms/step - loss: 0.0056 - val_loss: 0.0138\n",
      "Epoch 24/100\n",
      "319/319 [==============================] - 1s 2ms/step - loss: 0.0057 - val_loss: 0.0139\n",
      "Epoch 25/100\n",
      "319/319 [==============================] - 1s 3ms/step - loss: 0.0059 - val_loss: 0.0145\n",
      "Epoch 26/100\n",
      "319/319 [==============================] - 1s 2ms/step - loss: 0.0059 - val_loss: 0.0143\n",
      "Epoch 27/100\n",
      "319/319 [==============================] - 1s 2ms/step - loss: 0.0056 - val_loss: 0.0151\n",
      "Epoch 28/100\n",
      "319/319 [==============================] - 1s 2ms/step - loss: 0.0056 - val_loss: 0.0144\n",
      "Epoch 29/100\n",
      "319/319 [==============================] - 1s 2ms/step - loss: 0.0057 - val_loss: 0.0144\n",
      "Epoch 30/100\n",
      "319/319 [==============================] - 1s 2ms/step - loss: 0.0056 - val_loss: 0.0138\n",
      "Epoch 31/100\n",
      "319/319 [==============================] - 1s 2ms/step - loss: 0.0057 - val_loss: 0.0164\n",
      "Epoch 32/100\n",
      "319/319 [==============================] - 1s 2ms/step - loss: 0.0056 - val_loss: 0.0144\n",
      "Epoch 33/100\n",
      "319/319 [==============================] - 1s 2ms/step - loss: 0.0056 - val_loss: 0.0156\n",
      "Epoch 34/100\n",
      "319/319 [==============================] - 1s 3ms/step - loss: 0.0058 - val_loss: 0.0166\n",
      "Epoch 35/100\n",
      "319/319 [==============================] - 1s 2ms/step - loss: 0.0057 - val_loss: 0.0133\n",
      "Epoch 36/100\n",
      "319/319 [==============================] - 1s 2ms/step - loss: 0.0056 - val_loss: 0.0149\n",
      "Epoch 37/100\n",
      "319/319 [==============================] - 1s 2ms/step - loss: 0.0054 - val_loss: 0.0138\n",
      "Epoch 38/100\n",
      "319/319 [==============================] - 1s 2ms/step - loss: 0.0056 - val_loss: 0.0137\n",
      "Epoch 39/100\n",
      "319/319 [==============================] - 1s 2ms/step - loss: 0.0058 - val_loss: 0.0146\n",
      "Epoch 40/100\n",
      "319/319 [==============================] - 1s 2ms/step - loss: 0.0054 - val_loss: 0.0154\n",
      "Epoch 41/100\n",
      "319/319 [==============================] - 1s 2ms/step - loss: 0.0053 - val_loss: 0.0134\n",
      "Epoch 42/100\n",
      "319/319 [==============================] - 1s 3ms/step - loss: 0.0052 - val_loss: 0.0134\n",
      "Epoch 43/100\n",
      "319/319 [==============================] - 1s 2ms/step - loss: 0.0061 - val_loss: 0.0220\n",
      "Epoch 44/100\n",
      "319/319 [==============================] - 1s 2ms/step - loss: 0.0052 - val_loss: 0.0134\n",
      "Epoch 45/100\n",
      "319/319 [==============================] - 1s 2ms/step - loss: 0.0051 - val_loss: 0.0135\n",
      "Epoch 46/100\n",
      "319/319 [==============================] - 1s 2ms/step - loss: 0.0052 - val_loss: 0.0149\n",
      "Epoch 47/100\n",
      "319/319 [==============================] - 1s 2ms/step - loss: 0.0055 - val_loss: 0.0142\n",
      "Epoch 48/100\n",
      "319/319 [==============================] - 1s 2ms/step - loss: 0.0054 - val_loss: 0.0132\n",
      "Epoch 49/100\n",
      "319/319 [==============================] - 1s 2ms/step - loss: 0.0054 - val_loss: 0.0140\n",
      "Epoch 50/100\n",
      "319/319 [==============================] - 1s 2ms/step - loss: 0.0053 - val_loss: 0.0151\n",
      "Epoch 51/100\n",
      "319/319 [==============================] - 1s 2ms/step - loss: 0.0053 - val_loss: 0.0137\n",
      "Epoch 52/100\n",
      "319/319 [==============================] - 1s 2ms/step - loss: 0.0054 - val_loss: 0.0149\n",
      "Epoch 53/100\n",
      "319/319 [==============================] - 1s 2ms/step - loss: 0.0053 - val_loss: 0.0134\n",
      "Epoch 54/100\n",
      "319/319 [==============================] - 1s 2ms/step - loss: 0.0055 - val_loss: 0.0144\n",
      "Epoch 55/100\n",
      "319/319 [==============================] - 1s 2ms/step - loss: 0.0049 - val_loss: 0.0143\n",
      "Epoch 56/100\n",
      "319/319 [==============================] - 1s 2ms/step - loss: 0.0055 - val_loss: 0.0138\n",
      "Epoch 57/100\n",
      "319/319 [==============================] - 1s 2ms/step - loss: 0.0051 - val_loss: 0.0132\n",
      "Epoch 58/100\n",
      "319/319 [==============================] - 1s 2ms/step - loss: 0.0051 - val_loss: 0.0133\n",
      "Epoch 59/100\n",
      "319/319 [==============================] - 1s 3ms/step - loss: 0.0049 - val_loss: 0.0141\n",
      "Epoch 60/100\n",
      "319/319 [==============================] - 1s 3ms/step - loss: 0.0052 - val_loss: 0.0138\n",
      "Epoch 61/100\n",
      "319/319 [==============================] - 1s 3ms/step - loss: 0.0051 - val_loss: 0.0130\n",
      "Epoch 62/100\n",
      "319/319 [==============================] - 1s 3ms/step - loss: 0.0048 - val_loss: 0.0168\n",
      "Epoch 63/100\n",
      "319/319 [==============================] - 1s 3ms/step - loss: 0.0050 - val_loss: 0.0129\n",
      "Epoch 64/100\n",
      "319/319 [==============================] - 1s 3ms/step - loss: 0.0052 - val_loss: 0.0154\n",
      "Epoch 65/100\n",
      "319/319 [==============================] - 1s 3ms/step - loss: 0.0050 - val_loss: 0.0134\n",
      "Epoch 66/100\n",
      "319/319 [==============================] - 1s 3ms/step - loss: 0.0052 - val_loss: 0.0138\n",
      "Epoch 67/100\n",
      "319/319 [==============================] - 1s 3ms/step - loss: 0.0051 - val_loss: 0.0126\n",
      "Epoch 68/100\n",
      "319/319 [==============================] - 1s 3ms/step - loss: 0.0047 - val_loss: 0.0146\n",
      "Epoch 69/100\n",
      "319/319 [==============================] - 1s 3ms/step - loss: 0.0048 - val_loss: 0.0127\n",
      "Epoch 70/100\n",
      "319/319 [==============================] - 1s 3ms/step - loss: 0.0051 - val_loss: 0.0140\n",
      "Epoch 71/100\n",
      "319/319 [==============================] - 1s 3ms/step - loss: 0.0052 - val_loss: 0.0131\n",
      "Epoch 72/100\n",
      "319/319 [==============================] - 1s 3ms/step - loss: 0.0047 - val_loss: 0.0158\n",
      "Epoch 73/100\n",
      "319/319 [==============================] - 1s 3ms/step - loss: 0.0052 - val_loss: 0.0130\n",
      "Epoch 74/100\n",
      "319/319 [==============================] - 1s 3ms/step - loss: 0.0047 - val_loss: 0.0138\n",
      "Epoch 75/100\n",
      "319/319 [==============================] - 1s 3ms/step - loss: 0.0048 - val_loss: 0.0147\n",
      "Epoch 76/100\n",
      "319/319 [==============================] - 1s 3ms/step - loss: 0.0049 - val_loss: 0.0127\n",
      "Epoch 77/100\n",
      "319/319 [==============================] - 1s 3ms/step - loss: 0.0050 - val_loss: 0.0149\n",
      "Epoch 78/100\n",
      "319/319 [==============================] - 1s 3ms/step - loss: 0.0047 - val_loss: 0.0140\n",
      "Epoch 79/100\n",
      "319/319 [==============================] - 1s 3ms/step - loss: 0.0049 - val_loss: 0.0138\n",
      "Epoch 80/100\n",
      "319/319 [==============================] - 1s 3ms/step - loss: 0.0048 - val_loss: 0.0130\n",
      "Epoch 81/100\n"
     ]
    },
    {
     "name": "stdout",
     "output_type": "stream",
     "text": [
      "319/319 [==============================] - 1s 3ms/step - loss: 0.0049 - val_loss: 0.0139\n",
      "Epoch 82/100\n",
      "319/319 [==============================] - ETA: 0s - loss: 0.0047Restoring model weights from the end of the best epoch.\n",
      "319/319 [==============================] - 1s 3ms/step - loss: 0.0047 - val_loss: 0.0128\n",
      "Epoch 00082: early stopping\n",
      "Epoch 1/100\n",
      "319/319 [==============================] - 1s 3ms/step - loss: 0.0029 - val_loss: 0.0122\n",
      "Epoch 2/100\n",
      "319/319 [==============================] - 1s 3ms/step - loss: 0.0024 - val_loss: 0.0121\n",
      "Epoch 3/100\n",
      "319/319 [==============================] - 1s 3ms/step - loss: 0.0022 - val_loss: 0.0121\n",
      "Epoch 4/100\n",
      "319/319 [==============================] - 1s 3ms/step - loss: 0.0020 - val_loss: 0.0120\n",
      "Epoch 5/100\n",
      "319/319 [==============================] - 1s 3ms/step - loss: 0.0019 - val_loss: 0.0121\n",
      "Epoch 6/100\n",
      "319/319 [==============================] - 1s 3ms/step - loss: 0.0018 - val_loss: 0.0121\n",
      "Epoch 7/100\n",
      "319/319 [==============================] - 1s 3ms/step - loss: 0.0018 - val_loss: 0.0120\n",
      "Epoch 8/100\n",
      "319/319 [==============================] - 1s 3ms/step - loss: 0.0017 - val_loss: 0.0122\n",
      "Epoch 9/100\n",
      "319/319 [==============================] - 1s 3ms/step - loss: 0.0016 - val_loss: 0.0121\n",
      "Epoch 10/100\n",
      "319/319 [==============================] - 1s 3ms/step - loss: 0.0016 - val_loss: 0.0121\n",
      "Epoch 11/100\n",
      "319/319 [==============================] - 1s 3ms/step - loss: 0.0016 - val_loss: 0.0121\n",
      "Epoch 12/100\n",
      "319/319 [==============================] - 1s 3ms/step - loss: 0.0015 - val_loss: 0.0121\n",
      "Epoch 13/100\n",
      "319/319 [==============================] - 1s 3ms/step - loss: 0.0015 - val_loss: 0.0121\n",
      "Epoch 14/100\n",
      "319/319 [==============================] - 1s 3ms/step - loss: 0.0015 - val_loss: 0.0120\n",
      "Epoch 15/100\n",
      "319/319 [==============================] - 1s 3ms/step - loss: 0.0015 - val_loss: 0.0121\n",
      "Epoch 16/100\n",
      "319/319 [==============================] - 1s 3ms/step - loss: 0.0014 - val_loss: 0.0121\n",
      "Epoch 17/100\n",
      "319/319 [==============================] - 1s 3ms/step - loss: 0.0014 - val_loss: 0.0120\n",
      "Epoch 18/100\n",
      "319/319 [==============================] - 1s 3ms/step - loss: 0.0014 - val_loss: 0.0121\n",
      "Epoch 19/100\n",
      "319/319 [==============================] - ETA: 0s - loss: 0.0014Restoring model weights from the end of the best epoch.\n",
      "319/319 [==============================] - 1s 3ms/step - loss: 0.0014 - val_loss: 0.0121\n",
      "Epoch 00019: early stopping\n",
      "Epoch 1/100\n",
      "319/319 [==============================] - 1s 3ms/step - loss: 0.0018 - val_loss: 0.0120\n",
      "Epoch 2/100\n",
      "319/319 [==============================] - 1s 3ms/step - loss: 0.0017 - val_loss: 0.0120\n",
      "Epoch 3/100\n",
      "319/319 [==============================] - 1s 3ms/step - loss: 0.0017 - val_loss: 0.0120\n",
      "Epoch 4/100\n",
      "319/319 [==============================] - 1s 3ms/step - loss: 0.0017 - val_loss: 0.0120\n",
      "Epoch 5/100\n",
      "319/319 [==============================] - 1s 3ms/step - loss: 0.0017 - val_loss: 0.0120\n",
      "Epoch 6/100\n",
      "319/319 [==============================] - 1s 3ms/step - loss: 0.0017 - val_loss: 0.0120\n",
      "Epoch 7/100\n",
      "319/319 [==============================] - 1s 3ms/step - loss: 0.0016 - val_loss: 0.0120\n",
      "Epoch 8/100\n",
      "319/319 [==============================] - 1s 3ms/step - loss: 0.0016 - val_loss: 0.0120\n",
      "Epoch 9/100\n",
      "319/319 [==============================] - 1s 3ms/step - loss: 0.0016 - val_loss: 0.0120\n",
      "Epoch 10/100\n",
      "319/319 [==============================] - 1s 3ms/step - loss: 0.0016 - val_loss: 0.0120\n",
      "Epoch 11/100\n",
      "319/319 [==============================] - 1s 3ms/step - loss: 0.0016 - val_loss: 0.0120\n",
      "Epoch 12/100\n",
      "319/319 [==============================] - 1s 3ms/step - loss: 0.0016 - val_loss: 0.0120\n",
      "Epoch 13/100\n",
      "319/319 [==============================] - 1s 3ms/step - loss: 0.0016 - val_loss: 0.0120\n",
      "Epoch 14/100\n",
      "319/319 [==============================] - 1s 3ms/step - loss: 0.0016 - val_loss: 0.0120\n",
      "Epoch 15/100\n",
      "319/319 [==============================] - 1s 3ms/step - loss: 0.0016 - val_loss: 0.0120\n",
      "Epoch 16/100\n",
      "319/319 [==============================] - 1s 3ms/step - loss: 0.0015 - val_loss: 0.0120\n",
      "Epoch 17/100\n",
      "319/319 [==============================] - 1s 3ms/step - loss: 0.0015 - val_loss: 0.0120\n",
      "Epoch 18/100\n",
      "319/319 [==============================] - 1s 3ms/step - loss: 0.0015 - val_loss: 0.0120\n",
      "Epoch 19/100\n",
      "319/319 [==============================] - 1s 3ms/step - loss: 0.0015 - val_loss: 0.0120\n",
      "Epoch 20/100\n",
      "319/319 [==============================] - 1s 3ms/step - loss: 0.0015 - val_loss: 0.0120\n",
      "Epoch 21/100\n",
      "319/319 [==============================] - ETA: 0s - loss: 0.0015Restoring model weights from the end of the best epoch.\n",
      "319/319 [==============================] - 1s 3ms/step - loss: 0.0015 - val_loss: 0.0120\n",
      "Epoch 00021: early stopping\n",
      "Epoch 1/100\n",
      "319/319 [==============================] - 1s 3ms/step - loss: 0.0016 - val_loss: 0.0120\n",
      "Epoch 2/100\n",
      "319/319 [==============================] - 1s 3ms/step - loss: 0.0016 - val_loss: 0.0120\n",
      "Epoch 3/100\n",
      "319/319 [==============================] - 1s 3ms/step - loss: 0.0016 - val_loss: 0.0120\n",
      "Epoch 4/100\n",
      "319/319 [==============================] - 1s 3ms/step - loss: 0.0016 - val_loss: 0.0120\n",
      "Epoch 5/100\n",
      "319/319 [==============================] - 1s 3ms/step - loss: 0.0016 - val_loss: 0.0120\n",
      "Epoch 6/100\n",
      "319/319 [==============================] - 1s 3ms/step - loss: 0.0016 - val_loss: 0.0120\n",
      "Epoch 7/100\n",
      "319/319 [==============================] - 1s 3ms/step - loss: 0.0016 - val_loss: 0.0120\n",
      "Epoch 8/100\n",
      "319/319 [==============================] - 1s 3ms/step - loss: 0.0016 - val_loss: 0.0120\n",
      "Epoch 9/100\n",
      "319/319 [==============================] - 1s 3ms/step - loss: 0.0016 - val_loss: 0.0120\n",
      "Epoch 10/100\n",
      "319/319 [==============================] - 1s 3ms/step - loss: 0.0016 - val_loss: 0.0120\n",
      "Epoch 11/100\n",
      "319/319 [==============================] - 1s 3ms/step - loss: 0.0016 - val_loss: 0.0120\n",
      "Epoch 12/100\n",
      "319/319 [==============================] - 1s 3ms/step - loss: 0.0016 - val_loss: 0.0120\n",
      "Epoch 13/100\n",
      "319/319 [==============================] - 1s 3ms/step - loss: 0.0016 - val_loss: 0.0120\n",
      "Epoch 14/100\n",
      "319/319 [==============================] - 1s 3ms/step - loss: 0.0016 - val_loss: 0.0120\n",
      "Epoch 15/100\n",
      "319/319 [==============================] - 1s 3ms/step - loss: 0.0016 - val_loss: 0.0120\n",
      "Epoch 16/100\n",
      "318/319 [============================>.] - ETA: 0s - loss: 0.0016Restoring model weights from the end of the best epoch.\n",
      "319/319 [==============================] - 1s 3ms/step - loss: 0.0016 - val_loss: 0.0120\n",
      "Epoch 00016: early stopping\n"
     ]
    },
    {
     "data": {
      "text/plain": [
       "<tensorflow.python.keras.callbacks.History at 0x1817f0e80>"
      ]
     },
     "execution_count": 157,
     "metadata": {},
     "output_type": "execute_result"
    }
   ],
   "source": [
    "model.compile(loss='MAE',optimizer=tf.keras.optimizers.Adam(1e-3))\n",
    "model.fit(X_train,y_train.T, epochs=100, batch_size=batch_size, verbose=1,validation_data=(X_val,y_val.T), callbacks=cus.callbacks())\n",
    "model.compile(loss='MAE',optimizer=tf.keras.optimizers.Adam(1e-4))\n",
    "model.fit(X_train,y_train.T, epochs=100, batch_size=batch_size, verbose=1,validation_data=(X_val,y_val.T), callbacks=cus.callbacks())\n",
    "model.compile(loss='MAE',optimizer=tf.keras.optimizers.Adam(1e-5))\n",
    "model.fit(X_train,y_train.T, epochs=100, batch_size=batch_size, verbose=1,validation_data=(X_val,y_val.T), callbacks=cus.callbacks())\n",
    "model.compile(loss='MAE',optimizer=tf.keras.optimizers.Adam(1e-6))\n",
    "model.fit(X_train,y_train.T, epochs=100, batch_size=batch_size, verbose=1,validation_data=(X_val,y_val.T), callbacks=cus.callbacks())"
   ]
  },
  {
   "cell_type": "code",
   "execution_count": 158,
   "metadata": {},
   "outputs": [
    {
     "name": "stdout",
     "output_type": "stream",
     "text": [
      "0.000965601\n",
      "[[1.3720028  1.0877657  0.8926724 ]\n",
      " [1.3688792  1.0894364  0.8948215 ]\n",
      " [0.92203975 0.6882773  0.54573214]\n",
      " ...\n",
      " [1.3613952  1.0700885  0.86741704]\n",
      " [1.3682325  1.0819782  0.87622315]\n",
      " [0.821684   0.6245683  0.49963948]]\n"
     ]
    }
   ],
   "source": [
    "y_predicted = model.predict(X_test)\n",
    "metric = tf.keras.metrics.MeanSquaredError(name=\"mean_average_error\", dtype=None)\n",
    "metric.update_state(np.array(y_predicted*normConst),np.array(y_test.T*normConst))\n",
    "print(metric.result().numpy())\n",
    "print(y_predicted)"
   ]
  },
  {
   "cell_type": "code",
   "execution_count": 159,
   "metadata": {},
   "outputs": [],
   "source": [
    "from matplotlib import pyplot as plt\n",
    "import numpy as np\n"
   ]
  },
  {
   "cell_type": "code",
   "execution_count": 160,
   "metadata": {},
   "outputs": [
    {
     "name": "stdout",
     "output_type": "stream",
     "text": [
      "(9999, 3)\n"
     ]
    },
    {
     "data": {
      "image/png": "[encoded data removed]",
      "text/plain": [
       "<Figure size 720x504 with 1 Axes>"
      ]
     },
     "metadata": {
      "needs_background": "light"
     },
     "output_type": "display_data"
    }
   ],
   "source": [
    "# Creating dataset\n",
    "a = (y_predicted-y_test.T)\n",
    "print(a.shape)\n",
    "# Creating histogram\n",
    "fig, ax = plt.subplots(figsize =(10, 7))\n",
    "ax.hist(a[:,2],bins=500,alpha=0.75,label=\"EOL\",color='r')\n",
    "ax.hist(a[:,1],bins=500,alpha=0.25,label=\"MOL\",color='b')\n",
    "ax.hist(a[:,0],bins=500,alpha=0.25,label=\"BOL\",color='g')\n",
    "plt.xlabel(\"$Δk_{\\infty}$\", size=14)\n",
    "plt.ylabel(\"Count\", size=14)\n",
    "plt.title(\"LWR $Δk_{\\infty}$, eq leth serialization\")\n",
    "plt.legend(loc='upper right')\n",
    "plt.savefig(\"PICS/LWR_completeData_eqleth_log_drOLR_narrow.png\",bbox_inches =\"tight\",\n",
    "            pad_inches = 1,\n",
    "            transparent = False,\n",
    "            facecolor =\"w\",\n",
    "            edgecolor ='w',\n",
    "            orientation ='landscape')\n",
    "# Show plot\n",
    "plt.show()\n"
   ]
  },
  {
   "cell_type": "code",
   "execution_count": 161,
   "metadata": {},
   "outputs": [
    {
     "name": "stdout",
     "output_type": "stream",
     "text": [
      "0.03326340912491529\n",
      "0.03162610220745287\n",
      "0.02810893159587137\n",
      "0.03099948097607984\n",
      "[0.03326341 0.0316261  0.02810893]\n"
     ]
    }
   ],
   "source": [
    "\n",
    "print(np.std(a[:,0]))\n",
    "print(np.std(a[:,1]))\n",
    "print(np.std(a[:,2]))\n",
    "print(np.mean([np.std(a[:,0]),np.std(a[:,1]),np.std(a[:,2])]))\n",
    "print(np.std(a,0))"
   ]
  },
  {
   "cell_type": "code",
   "execution_count": 107,
   "metadata": {},
   "outputs": [
    {
     "name": "stdout",
     "output_type": "stream",
     "text": [
      "[1.3714604  1.3617232  0.9090312  ... 1.3582966  1.3679968  0.80100185]\n",
      "(9999, 3)\n",
      "(3, 9999)\n"
     ]
    }
   ],
   "source": [
    "print(y_predicted[:,0])\n",
    "print(y_predicted.shape)\n",
    "print(y_test.shape)"
   ]
  },
  {
   "cell_type": "code",
   "execution_count": 163,
   "metadata": {},
   "outputs": [
    {
     "data": {
      "image/png": "[encoded data removed]",
      "text/plain": [
       "<Figure size 720x504 with 1 Axes>"
      ]
     },
     "metadata": {
      "needs_background": "light"
     },
     "output_type": "display_data"
    }
   ],
   "source": [
    "import matplotlib.pyplot as plt\n",
    "import numpy as np\n",
    "from matplotlib import colors\n",
    "from matplotlib.ticker import PercentFormatter\n",
    " \n",
    "\n",
    "n_bins = 1000\n",
    " \n",
    "\n",
    "# Creating histogram\n",
    "fig, axs = plt.subplots(figsize =(10, 7))\n",
    " \n",
    "axs.hist(y_test.T[:,0], bins = n_bins,label=\"BOL Ground Truth\")\n",
    "axs.hist(y_predicted[:,0], bins = n_bins,label=\"BOL predicted\")\n",
    "\n",
    "\n",
    "plt.xlabel(\"$k_{\\infty}$\", size=14)\n",
    "plt.ylabel(\"Count\", size=14)\n",
    "\n",
    "plt.legend(loc='upper right')\n",
    "plt.axvline(1.3815,color='r',linestyle='dashed',linewidth=2)\n",
    "\n",
    "plt.title(\"LWR $k_{\\infty}$, eq leth serialization\")\n",
    "plt.savefig(\"PICS/kinfPredDist_boxlog_drOLR_narrow.png\",bbox_inches =\"tight\",\n",
    "            pad_inches = 1,\n",
    "            transparent = False,\n",
    "            facecolor =\"w\",\n",
    "            edgecolor ='w',\n",
    "            orientation ='landscape')\n",
    "plt.show()\n",
    "# Show plot\n",
    "\n"
   ]
  },
  {
   "cell_type": "code",
   "execution_count": 133,
   "metadata": {},
   "outputs": [
    {
     "name": "stdout",
     "output_type": "stream",
     "text": [
      "0.01676\n",
      "49999\n"
     ]
    }
   ],
   "source": [
    "print(np.sum(np.logical_and(kinfBOL > 1.3815-0.001,kinfBOL < 1.3815+0.001))/50000)\n",
    "\n",
    "print(len(kinfBOL))"
   ]
  },
  {
   "cell_type": "code",
   "execution_count": 128,
   "metadata": {},
   "outputs": [
    {
     "data": {
      "text/plain": [
       "5741"
      ]
     },
     "execution_count": 128,
     "metadata": {},
     "output_type": "execute_result"
    }
   ],
   "source": [
    "np.sum(a[:,0]<0.001)"
   ]
  },
  {
   "cell_type": "code",
   "execution_count": 114,
   "metadata": {},
   "outputs": [
    {
     "data": {
      "text/plain": [
       "9999"
      ]
     },
     "execution_count": 114,
     "metadata": {},
     "output_type": "execute_result"
    }
   ],
   "source": [
    "len(a)"
   ]
  },
  {
   "cell_type": "code",
   "execution_count": 123,
   "metadata": {},
   "outputs": [
    {
     "data": {
      "text/plain": [
       "0.5741574157415742"
      ]
     },
     "execution_count": 123,
     "metadata": {},
     "output_type": "execute_result"
    }
   ],
   "source": [
    "5741/9999\n"
   ]
  },
  {
   "cell_type": "code",
   "execution_count": null,
   "metadata": {},
   "outputs": [],
   "source": []
  }
 ],
 "metadata": {
  "kernelspec": {
   "display_name": "Python 3",
   "language": "python",
   "name": "python3"
  },
  "language_info": {
   "codemirror_mode": {
    "name": "ipython",
    "version": 3
   },
   "file_extension": ".py",
   "mimetype": "text/x-python",
   "name": "python",
   "nbconvert_exporter": "python",
   "pygments_lexer": "ipython3",
   "version": "3.8.5"
  }
 },
 "nbformat": 4,
 "nbformat_minor": 4
}
